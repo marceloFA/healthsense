{
  "nbformat": 4,
  "nbformat_minor": 0,
  "metadata": {
    "kernelspec": {
      "name": "python3",
      "display_name": "Python 3"
    },
    "language_info": {
      "codemirror_mode": {
        "name": "ipython",
        "version": 3
      },
      "file_extension": ".py",
      "mimetype": "text/x-python",
      "name": "python",
      "nbconvert_exporter": "python",
      "pygments_lexer": "ipython3",
      "version": "3.7.4"
    },
    "colab": {
      "name": "ECG indentification scenarios.ipynb",
      "provenance": [],
      "collapsed_sections": [],
      "machine_shape": "hm"
    }
  },
  "cells": [
    {
      "cell_type": "code",
      "metadata": {
        "id": "MaoKznvegU8o",
        "colab_type": "code",
        "outputId": "ce087bab-ebf2-408c-a8d5-f573bafa9361",
        "colab": {
          "base_uri": "https://localhost:8080/",
          "height": 34
        }
      },
      "source": [
        "import pandas as pd\n",
        "import numpy as np\n",
        "from scipy import stats\n",
        "from joblib import dump, load\n",
        "\n",
        "# Data visualization\n",
        "import matplotlib.pyplot as plt\n",
        "import seaborn as sns\n",
        "sns.set(style=\"whitegrid\")\n",
        "\n",
        "# Sklearn imports\n",
        "from sklearn.multiclass import OneVsRestClassifier\n",
        "from sklearn.model_selection import GridSearchCV\n",
        "from sklearn.model_selection import train_test_split, StratifiedKFold\n",
        "from sklearn.ensemble import RandomForestClassifier\n",
        "from sklearn import tree\n",
        "# old classification metrics\n",
        "from sklearn.metrics import ( classification_report, confusion_matrix, \n",
        "                             precision_score, accuracy_score, \n",
        "                             precision_recall_fscore_support )\n",
        "# new classification metrics\n",
        "from sklearn.metrics import make_scorer, roc_curve \n",
        "\n",
        "# Decision tree visualization\n",
        "!pip install graphviz\n",
        "import graphviz"
      ],
      "execution_count": 21,
      "outputs": [
        {
          "output_type": "stream",
          "text": [
            "Requirement already satisfied: graphviz in /usr/local/lib/python3.6/dist-packages (0.10.1)\n"
          ],
          "name": "stdout"
        }
      ]
    },
    {
      "cell_type": "code",
      "metadata": {
        "id": "4NKy3F3ShyrJ",
        "colab_type": "code",
        "outputId": "107b804a-1b8c-4530-ebd5-eaccfc819b50",
        "colab": {
          "base_uri": "https://localhost:8080/",
          "height": 34
        }
      },
      "source": [
        "from google.colab import drive, files\n",
        "drive.mount('/content/drive')"
      ],
      "execution_count": 17,
      "outputs": [
        {
          "output_type": "stream",
          "text": [
            "Drive already mounted at /content/drive; to attempt to forcibly remount, call drive.mount(\"/content/drive\", force_remount=True).\n"
          ],
          "name": "stdout"
        }
      ]
    },
    {
      "cell_type": "code",
      "metadata": {
        "id": "v-dwa6SQkuwv",
        "colab_type": "code",
        "outputId": "2d19dc0f-6809-4ed7-e89f-2f464ffbb4a8",
        "colab": {
          "base_uri": "https://localhost:8080/",
          "height": 34
        }
      },
      "source": [
        "cd \"/content/drive/My Drive/UFPA/Healthsense/\""
      ],
      "execution_count": 18,
      "outputs": [
        {
          "output_type": "stream",
          "text": [
            "/content/drive/My Drive/UFPA/Healthsense\n"
          ],
          "name": "stdout"
        }
      ]
    },
    {
      "cell_type": "markdown",
      "metadata": {
        "id": "Ho5ZooPYgU80",
        "colab_type": "text"
      },
      "source": [
        "## Introduzindo os dados"
      ]
    },
    {
      "cell_type": "code",
      "metadata": {
        "id": "DDP33eJUgU81",
        "colab_type": "code",
        "colab": {}
      },
      "source": [
        "step_1 = pd.read_csv('challenge_raw_everyone.csv')\n",
        "#step_2 = pd.read_csv('challenge_processed_everyone.csv')\n",
        "#step_3 = pd.read_csv('challenge_cleaned_everyone.csv')\n",
        "#step_4 = pd.read_csv('challenge_cleaned_everyone.csv')\n",
        "#step_5 = pd.read_csv('challenge_cleaned_everyone.csv')"
      ],
      "execution_count": 0,
      "outputs": []
    },
    {
      "cell_type": "markdown",
      "metadata": {
        "id": "zzOhh5EhlWUk",
        "colab_type": "text"
      },
      "source": [
        "## Custom scorer based on the False Acceptance Rate and False Rejection Rate\n",
        "\n",
        "False Acceptance rate:\n",
        "\n",
        "Number acceptance of impostors / total number of impostors\n",
        "\n",
        "False Rejection rate:\n",
        "\n",
        "Number rejected of impostors / total number of impostors\n",
        "\n",
        "\n",
        "### Source of information:\n",
        "### https://www.recogtech.com/en/knowledge-base/security-level-versus-user-convenience \n",
        "### https://stackoverflow.com/questions/28339746/equal-error-rate-in-python"
      ]
    },
    {
      "cell_type": "code",
      "metadata": {
        "id": "aypT9VZqlVPK",
        "colab_type": "code",
        "colab": {}
      },
      "source": [
        "def binary_error_rate(y, y_pred, **kwargs):\n",
        "    ''' Calculates the equal error rate based on \n",
        "        False Aceptance Rate (FAR) and False Rejection Rate (FRR)\n",
        "        for a binary classification problem\n",
        "    '''\n",
        "    fpr, tpr, threshold = roc_curve(y, y_pred)\n",
        "    fnr = 1 - tpr\n",
        "    eer_threshold = threshold(np.nanargmin(np.absolute((fnr - fpr))))\n",
        "    err_rate = fpr[np.nanargmin(np.absolute((fnr - fpr)))]\n",
        "    return err_rate\n",
        "\n",
        "binary_equal_error_rate = make_scorer(binary_error_rate)\n",
        "\n",
        "\n",
        "\n",
        "def far(y, y_pred, **kwargs):\n",
        "    ''' \n",
        "        Calculates false acceptance rate (FAR)\n",
        "    '''\n",
        "    cm = confusion_matrix(y, y_pred)    \n",
        "    fp = cm.sum(axis=0) - np.diag(cm)  \n",
        "    fn = cm.sum(axis=1) - np.diag(cm)\n",
        "    tp = np.diag(cm)\n",
        "    tn = cm.sum() - (fp + fn + tp)\n",
        "\n",
        "    fpr = fp/(fp+tn)\n",
        "    \n",
        "    return np.mean(fpr)\n",
        "\n",
        "def frr(y, y_pred, **kwargs):\n",
        "    ''' \n",
        "        Calculates false rejection rate (FRR)\n",
        "    '''\n",
        "    cm = confusion_matrix(y, y_pred)    \n",
        "    fp = cm.sum(axis=0) - np.diag(cm)  \n",
        "    fn = cm.sum(axis=1) - np.diag(cm)\n",
        "    tp = np.diag(cm)\n",
        "    tn = cm.sum() - (fp + fn + tp)\n",
        "\n",
        "    fnr = fn/(tp+fn)\n",
        "    return np.mean(fnr)\n",
        "\n",
        "\n",
        "def error_rate(y, y_pred, **kwargs):\n",
        "    ''' \n",
        "        Calculates the equal error rate based on\n",
        "        False Aceptance Rate (FAR) and False Rejection Rate (FRR)\n",
        "        for a multiclass classification problem\n",
        "    '''\n",
        "    cm = confusion_matrix(y, y_pred)    \n",
        "    fp = cm.sum(axis=0) - np.diag(cm)  \n",
        "    fn = cm.sum(axis=1) - np.diag(cm)\n",
        "    tp = np.diag(cm)\n",
        "    tn = cm.sum() - (fp + fn + tp)\n",
        "\n",
        "    fpr = fp/(fp+tn)\n",
        "    fnr = fn/(tp+fn)\n",
        "\n",
        "    err_rate = np.mean(np.absolute((fnr - fpr)))\n",
        "    return err_rate"
      ],
      "execution_count": 0,
      "outputs": []
    },
    {
      "cell_type": "code",
      "metadata": {
        "id": "6qCh5_MJqrlh",
        "colab_type": "code",
        "colab": {}
      },
      "source": [
        "false_acceptance_rate = make_scorer(far)\n",
        "false_rejection_rate = make_scorer(frr)\n",
        "equal_error_rate = make_scorer(error_rate, greater_is_better=False)\n",
        "\n",
        "scorers={\n",
        "    'false_acceptance_rate': false_acceptance_rate,\n",
        "    'false_rejection_rate': false_rejection_rate,\n",
        "    'equal_error_rate': equal_error_rate\n",
        "}"
      ],
      "execution_count": 0,
      "outputs": []
    },
    {
      "cell_type": "markdown",
      "metadata": {
        "id": "gtsuyT6IgU89",
        "colab_type": "text"
      },
      "source": [
        "## Passo 1: Treino sem modificações aos dados originais"
      ]
    },
    {
      "cell_type": "code",
      "metadata": {
        "id": "YcbewVamgU9C",
        "colab_type": "code",
        "outputId": "e6bd3f1d-844d-4a3f-db7e-1b7dd7b8b492",
        "colab": {
          "base_uri": "https://localhost:8080/",
          "height": 355
        }
      },
      "source": [
        "plt.figure(figsize=(10,5))\n",
        "plt.title(\"Cumulative distribution of number of examples\")\n",
        "step_1['person'].value_counts(ascending=True).hist(cumulative=True, density=1)"
      ],
      "execution_count": 39,
      "outputs": [
        {
          "output_type": "execute_result",
          "data": {
            "text/plain": [
              "<matplotlib.axes._subplots.AxesSubplot at 0x7faca6b1c748>"
            ]
          },
          "metadata": {
            "tags": []
          },
          "execution_count": 39
        },
        {
          "output_type": "display_data",
          "data": {
            "image/png": "[encoded data removed]",
            "text/plain": [
              "<Figure size 720x360 with 1 Axes>"
            ]
          },
          "metadata": {
            "tags": []
          }
        }
      ]
    },
    {
      "cell_type": "code",
      "metadata": {
        "id": "IaSaauikmso9",
        "colab_type": "code",
        "colab": {}
      },
      "source": [
        "min_n_of_segments = 17\n",
        "mask = step_1['person'].value_counts() < min_n_of_segments\n",
        "people_to_remove = list(mask[mask].index)\n",
        "\n",
        "for person in people_to_remove:\n",
        "    step_1 = step_1[step_1.person != person]"
      ],
      "execution_count": 0,
      "outputs": []
    },
    {
      "cell_type": "code",
      "metadata": {
        "id": "IXMf70cAgU8-",
        "colab_type": "code",
        "colab": {}
      },
      "source": [
        "original_columns = ['mean_q', 'mean_r', 'mean_s', 'stdev_q', 'stdev_r','stdev_s',\n",
        "                   'mean_rr_interval', 'mean_rq_amplitude', 'mean_qrs_interval']\n",
        "\n",
        "X_step_1 = step_1[original_columns]\n",
        "# Preenche os dados faltosos com a média da respectiva coluna\n",
        "X_step_1 = X_step_1.apply(lambda x: x.fillna(x.mean()))\n",
        "# O objeto da predição é 'y' (os rótulos das classes)\n",
        "y_step_1 = step_1['person']\n",
        "X_train_step_1, X_test_step_1, y_train_step_1, y_test_step_1 = train_test_split(X_step_1, y_step_1,\n",
        "                                                                                test_size = 0.2, random_state=42)"
      ],
      "execution_count": 0,
      "outputs": []
    },
    {
      "cell_type": "markdown",
      "metadata": {
        "id": "V9sLE6uDX5e7",
        "colab_type": "text"
      },
      "source": [
        "### New training scheme"
      ]
    },
    {
      "cell_type": "code",
      "metadata": {
        "id": "_QiOTshxVC5y",
        "colab_type": "code",
        "colab": {}
      },
      "source": [
        "rf_step_1 = RandomForestClassifier(n_estimators=120, min_samples_leaf=5, min_samples_split=12, max_depth=100)\n",
        "ovr_step_1 = OneVsRestClassifier(estimator=rf_step_1, n_jobs=-1)\n",
        "\n",
        "# train\n",
        "ovr_step_1.fit(X_train_step_1, y_train_step_1)\n",
        "\n",
        "# predict probabilites\n",
        "probabilities_step_1 = ovr_step_1.predict_proba(X_test_step_1)\n",
        "prob_df_step_1 = pd.DataFrame(probabilities_step_1)\n",
        "prob_df_step_1.to_csv('probabilities_step_1.csv')\n",
        "\n",
        "# predict classes\n",
        "predictions_step_1 = ovr_step_1.predict(X_test_step_1)\n",
        "\n",
        "# save classification metrics\n",
        "cm = confusion_matrix(y_test_step_1, predictions_step_1)\n",
        "cr = classification_report(y_test_step_1, predictions_step_1, output_dict=True)\n",
        "\n",
        "cr_df = pd.DataFrame(cr).transpose()\n",
        "cr_df.to_csv('classification_report_1.csv')\n",
        "\n",
        "cm_df = pd.DataFrame(cm)\n",
        "cm_df.to_csv('confusion_matrix_1.csv')\n",
        "\n",
        "# dump the model\n",
        "dump(ovr_step_1, 'one_vs_rest_classifier_step_1.joblib')"
      ],
      "execution_count": 0,
      "outputs": []
    },
    {
      "cell_type": "markdown",
      "metadata": {
        "id": "BiUDNVKDgU9S",
        "colab_type": "text"
      },
      "source": [
        "## Passo 2: Treino com adição de segmentos gerados aleatoriamente"
      ]
    },
    {
      "cell_type": "code",
      "metadata": {
        "id": "tF90RhgAgU9W",
        "colab_type": "code",
        "outputId": "bb90c775-8a9f-4b7e-cd83-c1d2e108e542",
        "colab": {
          "base_uri": "https://localhost:8080/",
          "height": 518
        }
      },
      "source": [
        "plt.figure(figsize=(10,5))\n",
        "plt.title(\"Cumulative distribution of number of examples\")\n",
        "step_2['person'].value_counts(ascending=True).hist(cumulative=True, density=1)"
      ],
      "execution_count": 0,
      "outputs": [
        {
          "output_type": "error",
          "ename": "NameError",
          "evalue": "ignored",
          "traceback": [
            "\u001b[0;31m---------------------------------------------------------------------------\u001b[0m",
            "\u001b[0;31mNameError\u001b[0m                                 Traceback (most recent call last)",
            "\u001b[0;32m<ipython-input-11-605c5d5b741b>\u001b[0m in \u001b[0;36m<module>\u001b[0;34m()\u001b[0m\n\u001b[1;32m      1\u001b[0m \u001b[0mplt\u001b[0m\u001b[0;34m.\u001b[0m\u001b[0mfigure\u001b[0m\u001b[0;34m(\u001b[0m\u001b[0mfigsize\u001b[0m\u001b[0;34m=\u001b[0m\u001b[0;34m(\u001b[0m\u001b[0;36m10\u001b[0m\u001b[0;34m,\u001b[0m\u001b[0;36m5\u001b[0m\u001b[0;34m)\u001b[0m\u001b[0;34m)\u001b[0m\u001b[0;34m\u001b[0m\u001b[0;34m\u001b[0m\u001b[0m\n\u001b[1;32m      2\u001b[0m \u001b[0mplt\u001b[0m\u001b[0;34m.\u001b[0m\u001b[0mtitle\u001b[0m\u001b[0;34m(\u001b[0m\u001b[0;34m\"Cumulative distribution of number of examples\"\u001b[0m\u001b[0;34m)\u001b[0m\u001b[0;34m\u001b[0m\u001b[0;34m\u001b[0m\u001b[0m\n\u001b[0;32m----> 3\u001b[0;31m \u001b[0mstep_2\u001b[0m\u001b[0;34m[\u001b[0m\u001b[0;34m'person'\u001b[0m\u001b[0;34m]\u001b[0m\u001b[0;34m.\u001b[0m\u001b[0mvalue_counts\u001b[0m\u001b[0;34m(\u001b[0m\u001b[0mascending\u001b[0m\u001b[0;34m=\u001b[0m\u001b[0;32mTrue\u001b[0m\u001b[0;34m)\u001b[0m\u001b[0;34m.\u001b[0m\u001b[0mhist\u001b[0m\u001b[0;34m(\u001b[0m\u001b[0mcumulative\u001b[0m\u001b[0;34m=\u001b[0m\u001b[0;32mTrue\u001b[0m\u001b[0;34m,\u001b[0m \u001b[0mdensity\u001b[0m\u001b[0;34m=\u001b[0m\u001b[0;36m1\u001b[0m\u001b[0;34m)\u001b[0m\u001b[0;34m\u001b[0m\u001b[0;34m\u001b[0m\u001b[0m\n\u001b[0m",
            "\u001b[0;31mNameError\u001b[0m: name 'step_2' is not defined"
          ]
        },
        {
          "output_type": "display_data",
          "data": {
            "image/png": "[encoded data removed]",
            "text/plain": [
              "<Figure size 720x360 with 1 Axes>"
            ]
          },
          "metadata": {
            "tags": [],
            "needs_background": "light"
          }
        }
      ]
    },
    {
      "cell_type": "code",
      "metadata": {
        "id": "atiYKJ-mgU9T",
        "colab_type": "code",
        "colab": {}
      },
      "source": [
        "#le_step_2 = LabelEncoder()\n",
        "#step_2['person'] = pd.Series(le_step_2.fit_transform(step_2['person']))\n",
        "original_columns = ['mean_q', 'mean_r', 'mean_s', 'stdev_q', 'stdev_r','stdev_s',\n",
        "                   'mean_rr_interval', 'mean_rq_amplitude', 'mean_qrs_interval']\n",
        "\n",
        "X_step_2 = step_2[original_columns]\n",
        "# Preenche os dados faltosos com a média da respectiva coluna\n",
        "X_step_2 = X_step_2.apply(lambda x: x.fillna(x.mean()))\n",
        "# O objeto da predição é 'y' (os rótulos das classes)\n",
        "y_step_2 = step_2['person']\n",
        "\n",
        "X_train_step_2, X_test_step_2, y_train_step_2, y_test_step_2 = train_test_split(X_step_2, y_step_2,\n",
        "                                                                                test_size = 0.2)"
      ],
      "execution_count": 0,
      "outputs": []
    },
    {
      "cell_type": "code",
      "metadata": {
        "id": "SNq_lb58rpI7",
        "colab_type": "code",
        "colab": {}
      },
      "source": [
        "rf_step_2 = RandomForestClassifier(n_estimators=120, min_samples_leaf=5, min_samples_split=12, max_depth=100)\n",
        "ovr_step_2 = OneVsRestClassifier(estimator=rf_step_2, n_jobs=-1)\n",
        "\n",
        "# train\n",
        "ovr_step_2.fit(X_train_step_2, y_train_step_2)\n",
        "\n",
        "# predict probabilites\n",
        "probabilities_step_2 = ovr_step_2.predict_proba(X_test_step_2)\n",
        "prob_df_step_2 = pd.DataFrame(probabilities_step_2)\n",
        "prob_df_step_2.to_csv('probabilities_step_2.csv')\n",
        "\n",
        "# predict classes\n",
        "predictions_step_2 = ovr_step_2.predict(X_test_step_2)\n",
        "\n",
        "# save classification metrics\n",
        "cm = confusion_matrix(y_test_step_2, predictions_step_2)\n",
        "cr = classification_report(y_test_step_2, predictions_step_2, output_dict=True)\n",
        "\n",
        "cr_df = pd.DataFrame(cr).transpose()\n",
        "cr_df.to_csv('classification_report_2.csv')\n",
        "\n",
        "cm_df = pd.DataFrame(cm)\n",
        "cm_df.to_csv('confusion_matrix_2.csv')\n",
        "\n",
        "# dump the model\n",
        "dump(ovr_step_2, 'one_vs_rest_classifier_step_2.joblib')"
      ],
      "execution_count": 0,
      "outputs": []
    },
    {
      "cell_type": "markdown",
      "metadata": {
        "id": "1_9qq_BNgU9g",
        "colab_type": "text"
      },
      "source": [
        "## Passo 3: Treino com adição de segmentos gerados aleatoriamente e remoção de outliers"
      ]
    },
    {
      "cell_type": "code",
      "metadata": {
        "id": "o3Sfs4nbhrIY",
        "colab_type": "code",
        "colab": {}
      },
      "source": [
        "plt.figure(figsize=(10,5))\n",
        "plt.title(\"Cumulative distribution of number of examples\")\n",
        "step_3['person'].value_counts(ascending=True).hist(cumulative=True, density=1)"
      ],
      "execution_count": 0,
      "outputs": []
    },
    {
      "cell_type": "code",
      "metadata": {
        "id": "WLj6E66ChyN_",
        "colab_type": "code",
        "colab": {}
      },
      "source": [
        "## Remove pessoas que tem menos que 60 segmentos\n",
        "min_n_of_segments = 60\n",
        "mask = step_3['person'].value_counts() < min_n_of_segments\n",
        "people_to_remove = list(mask[mask].index)\n",
        "for person in people_to_remove:\n",
        "    step_3 = step_3[step_3.person != person]"
      ],
      "execution_count": 0,
      "outputs": []
    },
    {
      "cell_type": "code",
      "metadata": {
        "id": "gE95-EKZRUAs",
        "colab_type": "code",
        "colab": {}
      },
      "source": [
        "#le_step_3 = LabelEncoder()\n",
        "#step_3['person'] = pd.Series(le_step_3.fit_transform(step_3['person']))\n",
        "original_columns = ['mean_q', 'mean_r', 'mean_s', 'stdev_q', 'stdev_r','stdev_s',\n",
        "                   'mean_rr_interval', 'mean_rq_amplitude', 'mean_qrs_interval']\n",
        "\n",
        "X_step_3 = step_3[original_columns]\n",
        "# Preenche os dados faltosos com a média da respectiva coluna\n",
        "X_step_3 = X_step_3.apply(lambda x: x.fillna(x.mean()))\n",
        "# O objeto da predição é 'y' (os rótulos das classes)\n",
        "y_step_3 = step_3['person']\n",
        "\n",
        "X_train_step_3, X_test_step_3, y_train_step_3, y_test_step_3 = train_test_split(X_step_3, y_step_3,\n",
        "                                                                                test_size = 0.2, stratify=y_step_3)\n",
        "print(f'Há {y_train_step_3.nunique()} classes únicas no conjunto de TREINO')\n",
        "print(f'Há {y_test_step_3.nunique()} classes únicas no conjunto de TESTE')"
      ],
      "execution_count": 0,
      "outputs": []
    },
    {
      "cell_type": "code",
      "metadata": {
        "id": "4TzRtRSRsPz1",
        "colab_type": "code",
        "colab": {}
      },
      "source": [
        "rf_step_3 = RandomForestClassifier(n_estimators=120, min_samples_leaf=5, min_samples_split=12, max_depth=100)\n",
        "ovr_step_3 = OneVsRestClassifier(estimator=rf_step_3, n_jobs=-1)\n",
        "\n",
        "# train\n",
        "ovr_step_3.fit(X_train_step_3, y_train_step_3)\n",
        "\n",
        "# predict probabilites\n",
        "probabilities_step_3 = ovr_step_3.predict_proba(X_test_step_3)\n",
        "prob_df_step_3 = pd.DataFrame(probabilities_step_3)\n",
        "prob_df_step_3.to_csv('probabilities_step_3.csv')\n",
        "\n",
        "# predict classes\n",
        "predictions_step_3 = ovr_step_3.predict(X_test_step_3)\n",
        "\n",
        "# save classification metrics\n",
        "cm = confusion_matrix(y_test_step_3, predictions_step_3)\n",
        "cr = classification_report(y_test_step_3, predictions_step_3, output_dict=True)\n",
        "\n",
        "cr_df = pd.DataFrame(cr).transpose()\n",
        "cr_df.to_csv('classification_report_3.csv')\n",
        "\n",
        "cm_df = pd.DataFrame(cm)\n",
        "cm_df.to_csv('confusion_matrix_3.csv')\n",
        "\n",
        "# dump the model\n",
        "dump(ovr_step_3, 'one_vs_rest_classifier_step_3.joblib')"
      ],
      "execution_count": 0,
      "outputs": []
    },
    {
      "cell_type": "markdown",
      "metadata": {
        "id": "qxZFNJw802cA",
        "colab_type": "text"
      },
      "source": [
        "## Passo 4: Todas as features, segmentos aleatórios e remoção de outliers "
      ]
    },
    {
      "cell_type": "code",
      "metadata": {
        "id": "EQ1nx_pT0-A-",
        "colab_type": "code",
        "colab": {}
      },
      "source": [
        "## Remove pessoas que tem menos que 60 segmentos\n",
        "min_n_of_segments = 60\n",
        "mask = step_5['person'].value_counts() < min_n_of_segments\n",
        "people_to_remove = list(mask[mask].index)\n",
        "\n",
        "for person in people_to_remove:\n",
        "    step_4 = step_5[step_5.person != person]"
      ],
      "execution_count": 0,
      "outputs": []
    },
    {
      "cell_type": "code",
      "metadata": {
        "id": "ZRVbP5r01Lsz",
        "colab_type": "code",
        "colab": {}
      },
      "source": [
        "#le_step_4 = LabelEncoder()\n",
        "#step_5['person'] = pd.Series(le_step_4.fit_transform(step_5['person']))\n",
        "\n",
        "X_step_4 = step_5.drop('person', axis=1)\n",
        "# Preenche os dados faltosos com a média da respectiva coluna\n",
        "X_step_4 = X_step_4.apply(lambda x: x.fillna(x.mean()))\n",
        "# O objeto da predição é 'y' (os rótulos das classes)\n",
        "y_step_4 = step_5['person']\n",
        "\n",
        "X_train_step_4, X_test_step_4, y_train_step_4, y_test_step_4 = train_test_split(X_step_4, y_step_4,\n",
        "                                                                                test_size = 0.2, stratify=y_step_4)\n",
        "print(f'Há {y_train_step_4.nunique()} classes únicas no conjunto de TREINO')\n",
        "print(f'Há {y_test_step_4.nunique()} classes únicas no conjunto de TESTE')"
      ],
      "execution_count": 0,
      "outputs": []
    },
    {
      "cell_type": "code",
      "metadata": {
        "id": "BmyfE_dVs8eK",
        "colab_type": "code",
        "colab": {}
      },
      "source": [
        "rf_step_4 = RandomForestClassifier(n_estimators=120, min_samples_leaf=5, min_samples_split=12, max_depth=100)\n",
        "ovr_step_4 = OneVsRestClassifier(estimator=rf_step_4, n_jobs=-1)\n",
        "\n",
        "# train\n",
        "ovr_step_4.fit(X_train_step_4, y_train_step_4)\n",
        "\n",
        "# predict probabilites\n",
        "probabilities_step_4 = ovr_step_4.predict_proba(X_test_step_4)\n",
        "prob_df_step_4 = pd.DataFrame(probabilities_step_4)\n",
        "prob_df_step_4.to_csv('probabilities_step_4.csv')\n",
        "\n",
        "# predict classes\n",
        "predictions_step_4 = ovr_step_4.predict(X_test_step_4)\n",
        "\n",
        "# save classification metrics\n",
        "cm = confusion_matrix(y_test_step_4, predictions_step_4)\n",
        "cr = classification_report(y_test_step_4, predictions_step_4, output_dict=True)\n",
        "\n",
        "cr_df = pd.DataFrame(cr).transpose()\n",
        "cr_df.to_csv('classification_report_4.csv')\n",
        "\n",
        "cm_df = pd.DataFrame(cm)\n",
        "cm_df.to_csv('confusion_matrix_4.csv')\n",
        "\n",
        "# dump the model\n",
        "dump(ovr_step_4, 'one_vs_rest_classifier_step_4.joblib')"
      ],
      "execution_count": 0,
      "outputs": []
    },
    {
      "cell_type": "markdown",
      "metadata": {
        "id": "JAuprHe1NslJ",
        "colab_type": "text"
      },
      "source": [
        "## Single decision tree  \n",
        "\n",
        "\n"
      ]
    },
    {
      "cell_type": "code",
      "metadata": {
        "id": "JRzm9j2rNncO",
        "colab_type": "code",
        "colab": {}
      },
      "source": [
        "dot_data = tree.export_graphviz(rf_step_4.estimators_[4], out_file=None,\n",
        "                                feature_names=X_step_4.columns, max_depth=1,\n",
        "                                class_names=y.unique(),  \n",
        "                                filled=True, special_characters=True)\n",
        "graph = graphviz.Source(dot_data)\n",
        "image_bytes = graph.pipe(format='eps')\n",
        "\n",
        "# Save tree image on Google Drive\n",
        "with open('trees_visualization.eps','wb') as picture_file:\n",
        "    picture_file.write(image_bytes)\n",
        "\n",
        "# Preview tree image o Colab\n",
        "graph.render(\"trees_visualization\") \n",
        "graph"
      ],
      "execution_count": 0,
      "outputs": []
    },
    {
      "cell_type": "markdown",
      "metadata": {
        "id": "Xn5T0FDorrX6",
        "colab_type": "text"
      },
      "source": [
        "## Checking model feature importance"
      ]
    },
    {
      "cell_type": "code",
      "metadata": {
        "id": "Tq6AkhALrnKx",
        "colab_type": "code",
        "colab": {}
      },
      "source": [
        "importances = [(feature, round(importance, 2)) for feature, importance in zip(X_step_4.columns, rf_step_4.feature_importances_)]\n",
        "sorted_importances = sorted(importances, key=lambda x:x[1], reverse=True) \n",
        "\n",
        "for pair in sorted_importances:\n",
        "    print('Feature: {:20} Importance: {}'.format(*pair))"
      ],
      "execution_count": 0,
      "outputs": []
    },
    {
      "cell_type": "code",
      "metadata": {
        "id": "uP2b7Buwrz93",
        "colab_type": "code",
        "colab": {}
      },
      "source": [
        "x_values = range(len(rf_step_4.feature_importances_))\n",
        "plt.figure(figsize=(10,5))\n",
        "plt.ylabel('Importance')\n",
        "plt.xlabel('Feature')\n",
        "plt.title('Feature Importance')\n",
        "plt.xticks(x_values, X_step_4.columns, rotation='vertical')\n",
        "plt.bar(x_values, rf_step_4.feature_importances_, orientation = 'vertical')"
      ],
      "execution_count": 0,
      "outputs": []
    }
  ]
}