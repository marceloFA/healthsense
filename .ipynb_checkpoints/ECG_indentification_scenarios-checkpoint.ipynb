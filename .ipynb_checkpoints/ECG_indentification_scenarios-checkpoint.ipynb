{
 "cells": [
  {
   "cell_type": "code",
   "execution_count": 2,
   "metadata": {
    "colab": {
     "base_uri": "https://localhost:8080/",
     "height": 34
    },
    "colab_type": "code",
    "id": "MaoKznvegU8o",
    "outputId": "87d7eca9-6769-45bb-f43f-0f7c76ae5438"
   },
   "outputs": [
    {
     "name": "stdout",
     "output_type": "stream",
     "text": [
      "Requirement already satisfied: graphviz in /usr/local/lib/python3.6/dist-packages (0.10.1)\n"
     ]
    }
   ],
   "source": [
    "import pandas as pd\n",
    "import numpy as np\n",
    "from scipy import stats\n",
    "from joblib import dump, load\n",
    "\n",
    "# Data visualization\n",
    "import matplotlib.pyplot as plt\n",
    "import seaborn as sns\n",
    "sns.set(style=\"whitegrid\")\n",
    "\n",
    "# Sklearn imports\n",
    "from sklearn.model_selection import GridSearchCV\n",
    "from sklearn.model_selection import train_test_split, StratifiedKFold\n",
    "from sklearn.ensemble import RandomForestClassifier\n",
    "from sklearn import tree\n",
    "# old classification metrics\n",
    "from sklearn.metrics import ( classification_report, confusion_matrix, \n",
    "                             precision_score, accuracy_score, \n",
    "                             precision_recall_fscore_support )\n",
    "# new classification metrics\n",
    "from sklearn.metrics import make_scorer, roc_curve \n",
    "\n",
    "# Decision tree visualization\n",
    "!pip install graphviz\n",
    "import graphviz"
   ]
  },
  {
   "cell_type": "code",
   "execution_count": 3,
   "metadata": {
    "colab": {
     "base_uri": "https://localhost:8080/",
     "height": 54
    },
    "colab_type": "code",
    "id": "4NKy3F3ShyrJ",
    "outputId": "55ef3322-f426-455a-f49d-4c7a56787da9"
   },
   "outputs": [
    {
     "name": "stdout",
     "output_type": "stream",
     "text": [
      "Drive already mounted at /content/drive; to attempt to forcibly remount, call drive.mount(\"/content/drive\", force_remount=True).\n"
     ]
    }
   ],
   "source": [
    "from google.colab import drive, files\n",
    "drive.mount('/content/drive')"
   ]
  },
  {
   "cell_type": "code",
   "execution_count": 4,
   "metadata": {
    "colab": {
     "base_uri": "https://localhost:8080/",
     "height": 34
    },
    "colab_type": "code",
    "id": "v-dwa6SQkuwv",
    "outputId": "9631b33d-064d-4ee9-eb0b-de305135e005"
   },
   "outputs": [
    {
     "name": "stdout",
     "output_type": "stream",
     "text": [
      "/content/drive/My Drive/UFPA/Healthsense\n"
     ]
    }
   ],
   "source": [
    "cd \"/content/drive/My Drive/UFPA/Healthsense/\""
   ]
  },
  {
   "cell_type": "markdown",
   "metadata": {
    "colab_type": "text",
    "id": "Ho5ZooPYgU80"
   },
   "source": [
    "## Introduzindo os dados"
   ]
  },
  {
   "cell_type": "code",
   "execution_count": 0,
   "metadata": {
    "colab": {},
    "colab_type": "code",
    "id": "DDP33eJUgU81"
   },
   "outputs": [],
   "source": [
    "step_1 = pd.read_csv('challenge_raw_everyone.csv')\n",
    "#step_2 = pd.read_csv('challenge_processed_everyone.csv')\n",
    "#step_3 = pd.read_csv('challenge_cleaned_everyone.csv')\n",
    "#step_4 = pd.read_csv('challenge_cleaned_everyone.csv')\n",
    "#step_5 = pd.read_csv('challenge_cleaned_everyone.csv')"
   ]
  },
  {
   "cell_type": "markdown",
   "metadata": {
    "colab_type": "text",
    "id": "zzOhh5EhlWUk"
   },
   "source": [
    "## Custom scorer based on the False Acceptance Rate and False Rejection Rate\n",
    "\n",
    "False Acceptance rate:\n",
    "\n",
    "Number acceptance of impostors / total number of impostors\n",
    "\n",
    "False Rejection rate:\n",
    "\n",
    "Number rejected of impostors / total number of impostors\n",
    "\n",
    "\n",
    "### Source of information:\n",
    "### https://www.recogtech.com/en/knowledge-base/security-level-versus-user-convenience \n",
    "### https://stackoverflow.com/questions/28339746/equal-error-rate-in-python"
   ]
  },
  {
   "cell_type": "code",
   "execution_count": 0,
   "metadata": {
    "colab": {},
    "colab_type": "code",
    "id": "aypT9VZqlVPK"
   },
   "outputs": [],
   "source": [
    "def binary_error_rate(y, y_pred, **kwargs):\n",
    "    ''' Calculates the equal error rate based on \n",
    "        False Aceptance Rate (FAR) and False Rejection Rate (FRR)\n",
    "        for a binary classification problem\n",
    "    '''\n",
    "    fpr, tpr, threshold = roc_curve(y, y_pred)\n",
    "    fnr = 1 - tpr\n",
    "    eer_threshold = threshold(np.nanargmin(np.absolute((fnr - fpr))))\n",
    "    err_rate = fpr[np.nanargmin(np.absolute((fnr - fpr)))]\n",
    "    return err_rate\n",
    "\n",
    "binary_equal_error_rate = make_scorer(binary_error_rate)\n",
    "\n",
    "\n",
    "def error_rate(y, y_pred, **kwargs):\n",
    "    ''' Calculates the equal error rate based on \n",
    "        False Aceptance Rate (FAR) and False Rejection Rate (FRR)\n",
    "        for a multiclass classification problem\n",
    "    '''\n",
    "    cm = confusion_matrix(y, y_pred)    \n",
    "    fp = cm.sum(axis=0) - np.diag(cm)  \n",
    "    fn = cm.sum(axis=1) - np.diag(cm)\n",
    "    tp = np.diag(cm)\n",
    "    tn = cm.sum() - (fp + fn + tp)\n",
    "\n",
    "    # Fall out or false positive rate\n",
    "    fpr = fp/(fp+tn)\n",
    "    # False negative rate\n",
    "    fnr = fn/(tp+fn)\n",
    "\n",
    "    # old Error rate calculation\n",
    "    #err_rate = fpr[np.nanargmin(np.absolute((fnr - fpr)))]\n",
    "\n",
    "    # new error rate calculation\n",
    "    err_rate = np.mean(np.absolute((fnr - fpr)))\n",
    "    print('fpr: ',fpr)\n",
    "    print('fnr: ',fnr)\n",
    "    print('error rate: ', err_rate)\n",
    "    return err_rate\n",
    "\n",
    "equal_error_rate = make_scorer(error_rate)"
   ]
  },
  {
   "cell_type": "markdown",
   "metadata": {
    "colab_type": "text",
    "id": "gtsuyT6IgU89"
   },
   "source": [
    "## Passo 1: Treino sem modificações aos dados originais"
   ]
  },
  {
   "cell_type": "code",
   "execution_count": 7,
   "metadata": {
    "colab": {
     "base_uri": "https://localhost:8080/",
     "height": 355
    },
    "colab_type": "code",
    "id": "YcbewVamgU9C",
    "outputId": "fbfed9d4-65b9-4865-f5a3-ac3316378785"
   },
   "outputs": [
    {
     "data": {
      "text/plain": [
       "<matplotlib.axes._subplots.AxesSubplot at 0x7f87886aa3c8>"
      ]
     },
     "execution_count": 7,
     "metadata": {
      "tags": []
     },
     "output_type": "execute_result"
    },
    {
     "data": {
      "image/png": "[encoded data removed]",
      "text/plain": [
       "<Figure size 720x360 with 1 Axes>"
      ]
     },
     "metadata": {
      "tags": []
     },
     "output_type": "display_data"
    }
   ],
   "source": [
    "plt.figure(figsize=(10,5))\n",
    "plt.title(\"Cumulative distribution of number of examples\")\n",
    "step_1['person'].value_counts(ascending=True).hist(cumulative=True, density=1)"
   ]
  },
  {
   "cell_type": "code",
   "execution_count": 0,
   "metadata": {
    "colab": {},
    "colab_type": "code",
    "id": "IaSaauikmso9"
   },
   "outputs": [],
   "source": [
    "## Remove pessoas que tem menos que 28 segmentos\n",
    "min_n_of_segments = 19\n",
    "mask = step_1['person'].value_counts() < min_n_of_segments\n",
    "people_to_remove = list(mask[mask].index)\n",
    "\n",
    "for person in people_to_remove:\n",
    "    step_1 = step_1[step_1.person != person]"
   ]
  },
  {
   "cell_type": "code",
   "execution_count": 0,
   "metadata": {
    "colab": {},
    "colab_type": "code",
    "id": "IXMf70cAgU8-"
   },
   "outputs": [],
   "source": [
    "original_columns = ['mean_q', 'mean_r', 'mean_s', 'stdev_q', 'stdev_r','stdev_s',\n",
    "                   'mean_rr_interval', 'mean_rq_amplitude', 'mean_qrs_interval']\n",
    "\n",
    "X_step_1 = step_1[original_columns]\n",
    "# Preenche os dados faltosos com a média da respectiva coluna\n",
    "X_step_1 = X_step_1.apply(lambda x: x.fillna(x.mean()))\n",
    "# O objeto da predição é 'y' (os rótulos das classes)\n",
    "y_step_1 = step_1['person']\n",
    "X_train_step_1, X_test_step_1, y_train_step_1, y_test_step_1 = train_test_split(X_step_1, y_step_1,\n",
    "                                                                                test_size=0.2, stratify=y_step_1,\n",
    "                                                                                random_state=42)"
   ]
  },
  {
   "cell_type": "markdown",
   "metadata": {
    "colab_type": "text",
    "id": "V9sLE6uDX5e7"
   },
   "source": [
    "### New training scheme"
   ]
  },
  {
   "cell_type": "code",
   "execution_count": 11,
   "metadata": {
    "colab": {
     "base_uri": "https://localhost:8080/",
     "height": 593
    },
    "colab_type": "code",
    "id": "_QiOTshxVC5y",
    "outputId": "7b2e2c2c-a69e-4581-975e-570502d81cff"
   },
   "outputs": [
    {
     "name": "stdout",
     "output_type": "stream",
     "text": [
      "Fitting 3 folds for each of 81 candidates, totalling 243 fits\n",
      "[CV] max_depth=100, min_samples_leaf=5, min_samples_split=12, n_estimators=150 \n"
     ]
    },
    {
     "name": "stderr",
     "output_type": "stream",
     "text": [
      "[Parallel(n_jobs=1)]: Using backend SequentialBackend with 1 concurrent workers.\n",
      "/usr/local/lib/python3.6/dist-packages/joblib/externals/loky/process_executor.py:706: UserWarning: A worker stopped while some jobs were given to the executor. This can be caused by a too short worker timeout or by a memory leak.\n",
      "  \"timeout or by a memory leak.\", UserWarning\n"
     ]
    },
    {
     "name": "stdout",
     "output_type": "stream",
     "text": [
      "fpr:  [0.         0.00053028 0.00031813 ... 0.00053028 0.00031817 0.00042427]\n",
      "fnr:  [0.2  0.4  0.25 ... 1.   0.4  0.5 ]\n",
      "error rate:  0.3514085719437247\n",
      "[CV]  max_depth=100, min_samples_leaf=5, min_samples_split=12, n_estimators=150, score=0.351, total= 1.9min\n",
      "[CV] max_depth=100, min_samples_leaf=5, min_samples_split=12, n_estimators=150 \n"
     ]
    },
    {
     "name": "stderr",
     "output_type": "stream",
     "text": [
      "[Parallel(n_jobs=1)]: Done   1 out of   1 | elapsed:  1.9min remaining:    0.0s\n"
     ]
    },
    {
     "ename": "KeyboardInterrupt",
     "evalue": "ignored",
     "output_type": "error",
     "traceback": [
      "\u001b[0;31m---------------------------------------------------------------------------\u001b[0m",
      "\u001b[0;31mKeyboardInterrupt\u001b[0m                         Traceback (most recent call last)",
      "\u001b[0;32m<ipython-input-11-c4af1cf3a593>\u001b[0m in \u001b[0;36m<module>\u001b[0;34m()\u001b[0m\n\u001b[1;32m     15\u001b[0m                                   cv=cv, verbose=3)\n\u001b[1;32m     16\u001b[0m \u001b[0;34m\u001b[0m\u001b[0m\n\u001b[0;32m---> 17\u001b[0;31m \u001b[0mgrid_search_step_1\u001b[0m\u001b[0;34m.\u001b[0m\u001b[0mfit\u001b[0m\u001b[0;34m(\u001b[0m\u001b[0mX_train_step_1\u001b[0m\u001b[0;34m,\u001b[0m \u001b[0my_train_step_1\u001b[0m\u001b[0;34m)\u001b[0m\u001b[0;34m\u001b[0m\u001b[0;34m\u001b[0m\u001b[0m\n\u001b[0m\u001b[1;32m     18\u001b[0m \u001b[0mprint\u001b[0m\u001b[0;34m(\u001b[0m\u001b[0;34m'Best parameters were: '\u001b[0m\u001b[0;34m,\u001b[0m\u001b[0mgrid_search_step_1\u001b[0m\u001b[0;34m.\u001b[0m\u001b[0mbest_parameters_\u001b[0m\u001b[0;34m)\u001b[0m\u001b[0;34m\u001b[0m\u001b[0;34m\u001b[0m\u001b[0m\n\u001b[1;32m     19\u001b[0m \u001b[0;34m\u001b[0m\u001b[0m\n",
      "\u001b[0;32m/usr/local/lib/python3.6/dist-packages/sklearn/model_selection/_search.py\u001b[0m in \u001b[0;36mfit\u001b[0;34m(self, X, y, groups, **fit_params)\u001b[0m\n\u001b[1;32m    708\u001b[0m                 \u001b[0;32mreturn\u001b[0m \u001b[0mresults\u001b[0m\u001b[0;34m\u001b[0m\u001b[0;34m\u001b[0m\u001b[0m\n\u001b[1;32m    709\u001b[0m \u001b[0;34m\u001b[0m\u001b[0m\n\u001b[0;32m--> 710\u001b[0;31m             \u001b[0mself\u001b[0m\u001b[0;34m.\u001b[0m\u001b[0m_run_search\u001b[0m\u001b[0;34m(\u001b[0m\u001b[0mevaluate_candidates\u001b[0m\u001b[0;34m)\u001b[0m\u001b[0;34m\u001b[0m\u001b[0;34m\u001b[0m\u001b[0m\n\u001b[0m\u001b[1;32m    711\u001b[0m \u001b[0;34m\u001b[0m\u001b[0m\n\u001b[1;32m    712\u001b[0m         \u001b[0;31m# For multi-metric evaluation, store the best_index_, best_params_ and\u001b[0m\u001b[0;34m\u001b[0m\u001b[0;34m\u001b[0m\u001b[0;34m\u001b[0m\u001b[0m\n",
      "\u001b[0;32m/usr/local/lib/python3.6/dist-packages/sklearn/model_selection/_search.py\u001b[0m in \u001b[0;36m_run_search\u001b[0;34m(self, evaluate_candidates)\u001b[0m\n\u001b[1;32m   1149\u001b[0m     \u001b[0;32mdef\u001b[0m \u001b[0m_run_search\u001b[0m\u001b[0;34m(\u001b[0m\u001b[0mself\u001b[0m\u001b[0;34m,\u001b[0m \u001b[0mevaluate_candidates\u001b[0m\u001b[0;34m)\u001b[0m\u001b[0;34m:\u001b[0m\u001b[0;34m\u001b[0m\u001b[0;34m\u001b[0m\u001b[0m\n\u001b[1;32m   1150\u001b[0m         \u001b[0;34m\"\"\"Search all candidates in param_grid\"\"\"\u001b[0m\u001b[0;34m\u001b[0m\u001b[0;34m\u001b[0m\u001b[0m\n\u001b[0;32m-> 1151\u001b[0;31m         \u001b[0mevaluate_candidates\u001b[0m\u001b[0;34m(\u001b[0m\u001b[0mParameterGrid\u001b[0m\u001b[0;34m(\u001b[0m\u001b[0mself\u001b[0m\u001b[0;34m.\u001b[0m\u001b[0mparam_grid\u001b[0m\u001b[0;34m)\u001b[0m\u001b[0;34m)\u001b[0m\u001b[0;34m\u001b[0m\u001b[0;34m\u001b[0m\u001b[0m\n\u001b[0m\u001b[1;32m   1152\u001b[0m \u001b[0;34m\u001b[0m\u001b[0m\n\u001b[1;32m   1153\u001b[0m \u001b[0;34m\u001b[0m\u001b[0m\n",
      "\u001b[0;32m/usr/local/lib/python3.6/dist-packages/sklearn/model_selection/_search.py\u001b[0m in \u001b[0;36mevaluate_candidates\u001b[0;34m(candidate_params)\u001b[0m\n\u001b[1;32m    687\u001b[0m                                \u001b[0;32mfor\u001b[0m \u001b[0mparameters\u001b[0m\u001b[0;34m,\u001b[0m \u001b[0;34m(\u001b[0m\u001b[0mtrain\u001b[0m\u001b[0;34m,\u001b[0m \u001b[0mtest\u001b[0m\u001b[0;34m)\u001b[0m\u001b[0;34m\u001b[0m\u001b[0;34m\u001b[0m\u001b[0m\n\u001b[1;32m    688\u001b[0m                                in product(candidate_params,\n\u001b[0;32m--> 689\u001b[0;31m                                           cv.split(X, y, groups)))\n\u001b[0m\u001b[1;32m    690\u001b[0m \u001b[0;34m\u001b[0m\u001b[0m\n\u001b[1;32m    691\u001b[0m                 \u001b[0;32mif\u001b[0m \u001b[0mlen\u001b[0m\u001b[0;34m(\u001b[0m\u001b[0mout\u001b[0m\u001b[0;34m)\u001b[0m \u001b[0;34m<\u001b[0m \u001b[0;36m1\u001b[0m\u001b[0;34m:\u001b[0m\u001b[0;34m\u001b[0m\u001b[0;34m\u001b[0m\u001b[0m\n",
      "\u001b[0;32m/usr/local/lib/python3.6/dist-packages/joblib/parallel.py\u001b[0m in \u001b[0;36m__call__\u001b[0;34m(self, iterable)\u001b[0m\n\u001b[1;32m   1005\u001b[0m                 \u001b[0mself\u001b[0m\u001b[0;34m.\u001b[0m\u001b[0m_iterating\u001b[0m \u001b[0;34m=\u001b[0m \u001b[0mself\u001b[0m\u001b[0;34m.\u001b[0m\u001b[0m_original_iterator\u001b[0m \u001b[0;32mis\u001b[0m \u001b[0;32mnot\u001b[0m \u001b[0;32mNone\u001b[0m\u001b[0;34m\u001b[0m\u001b[0;34m\u001b[0m\u001b[0m\n\u001b[1;32m   1006\u001b[0m \u001b[0;34m\u001b[0m\u001b[0m\n\u001b[0;32m-> 1007\u001b[0;31m             \u001b[0;32mwhile\u001b[0m \u001b[0mself\u001b[0m\u001b[0;34m.\u001b[0m\u001b[0mdispatch_one_batch\u001b[0m\u001b[0;34m(\u001b[0m\u001b[0miterator\u001b[0m\u001b[0;34m)\u001b[0m\u001b[0;34m:\u001b[0m\u001b[0;34m\u001b[0m\u001b[0;34m\u001b[0m\u001b[0m\n\u001b[0m\u001b[1;32m   1008\u001b[0m                 \u001b[0;32mpass\u001b[0m\u001b[0;34m\u001b[0m\u001b[0;34m\u001b[0m\u001b[0m\n\u001b[1;32m   1009\u001b[0m \u001b[0;34m\u001b[0m\u001b[0m\n",
      "\u001b[0;32m/usr/local/lib/python3.6/dist-packages/joblib/parallel.py\u001b[0m in \u001b[0;36mdispatch_one_batch\u001b[0;34m(self, iterator)\u001b[0m\n\u001b[1;32m    833\u001b[0m                 \u001b[0;32mreturn\u001b[0m \u001b[0;32mFalse\u001b[0m\u001b[0;34m\u001b[0m\u001b[0;34m\u001b[0m\u001b[0m\n\u001b[1;32m    834\u001b[0m             \u001b[0;32melse\u001b[0m\u001b[0;34m:\u001b[0m\u001b[0;34m\u001b[0m\u001b[0;34m\u001b[0m\u001b[0m\n\u001b[0;32m--> 835\u001b[0;31m                 \u001b[0mself\u001b[0m\u001b[0;34m.\u001b[0m\u001b[0m_dispatch\u001b[0m\u001b[0;34m(\u001b[0m\u001b[0mtasks\u001b[0m\u001b[0;34m)\u001b[0m\u001b[0;34m\u001b[0m\u001b[0;34m\u001b[0m\u001b[0m\n\u001b[0m\u001b[1;32m    836\u001b[0m                 \u001b[0;32mreturn\u001b[0m \u001b[0;32mTrue\u001b[0m\u001b[0;34m\u001b[0m\u001b[0;34m\u001b[0m\u001b[0m\n\u001b[1;32m    837\u001b[0m \u001b[0;34m\u001b[0m\u001b[0m\n",
      "\u001b[0;32m/usr/local/lib/python3.6/dist-packages/joblib/parallel.py\u001b[0m in \u001b[0;36m_dispatch\u001b[0;34m(self, batch)\u001b[0m\n\u001b[1;32m    752\u001b[0m         \u001b[0;32mwith\u001b[0m \u001b[0mself\u001b[0m\u001b[0;34m.\u001b[0m\u001b[0m_lock\u001b[0m\u001b[0;34m:\u001b[0m\u001b[0;34m\u001b[0m\u001b[0;34m\u001b[0m\u001b[0m\n\u001b[1;32m    753\u001b[0m             \u001b[0mjob_idx\u001b[0m \u001b[0;34m=\u001b[0m \u001b[0mlen\u001b[0m\u001b[0;34m(\u001b[0m\u001b[0mself\u001b[0m\u001b[0;34m.\u001b[0m\u001b[0m_jobs\u001b[0m\u001b[0;34m)\u001b[0m\u001b[0;34m\u001b[0m\u001b[0;34m\u001b[0m\u001b[0m\n\u001b[0;32m--> 754\u001b[0;31m             \u001b[0mjob\u001b[0m \u001b[0;34m=\u001b[0m \u001b[0mself\u001b[0m\u001b[0;34m.\u001b[0m\u001b[0m_backend\u001b[0m\u001b[0;34m.\u001b[0m\u001b[0mapply_async\u001b[0m\u001b[0;34m(\u001b[0m\u001b[0mbatch\u001b[0m\u001b[0;34m,\u001b[0m \u001b[0mcallback\u001b[0m\u001b[0;34m=\u001b[0m\u001b[0mcb\u001b[0m\u001b[0;34m)\u001b[0m\u001b[0;34m\u001b[0m\u001b[0;34m\u001b[0m\u001b[0m\n\u001b[0m\u001b[1;32m    755\u001b[0m             \u001b[0;31m# A job can complete so quickly than its callback is\u001b[0m\u001b[0;34m\u001b[0m\u001b[0;34m\u001b[0m\u001b[0;34m\u001b[0m\u001b[0m\n\u001b[1;32m    756\u001b[0m             \u001b[0;31m# called before we get here, causing self._jobs to\u001b[0m\u001b[0;34m\u001b[0m\u001b[0;34m\u001b[0m\u001b[0;34m\u001b[0m\u001b[0m\n",
      "\u001b[0;32m/usr/local/lib/python3.6/dist-packages/joblib/_parallel_backends.py\u001b[0m in \u001b[0;36mapply_async\u001b[0;34m(self, func, callback)\u001b[0m\n\u001b[1;32m    207\u001b[0m     \u001b[0;32mdef\u001b[0m \u001b[0mapply_async\u001b[0m\u001b[0;34m(\u001b[0m\u001b[0mself\u001b[0m\u001b[0;34m,\u001b[0m \u001b[0mfunc\u001b[0m\u001b[0;34m,\u001b[0m \u001b[0mcallback\u001b[0m\u001b[0;34m=\u001b[0m\u001b[0;32mNone\u001b[0m\u001b[0;34m)\u001b[0m\u001b[0;34m:\u001b[0m\u001b[0;34m\u001b[0m\u001b[0;34m\u001b[0m\u001b[0m\n\u001b[1;32m    208\u001b[0m         \u001b[0;34m\"\"\"Schedule a func to be run\"\"\"\u001b[0m\u001b[0;34m\u001b[0m\u001b[0;34m\u001b[0m\u001b[0m\n\u001b[0;32m--> 209\u001b[0;31m         \u001b[0mresult\u001b[0m \u001b[0;34m=\u001b[0m \u001b[0mImmediateResult\u001b[0m\u001b[0;34m(\u001b[0m\u001b[0mfunc\u001b[0m\u001b[0;34m)\u001b[0m\u001b[0;34m\u001b[0m\u001b[0;34m\u001b[0m\u001b[0m\n\u001b[0m\u001b[1;32m    210\u001b[0m         \u001b[0;32mif\u001b[0m \u001b[0mcallback\u001b[0m\u001b[0;34m:\u001b[0m\u001b[0;34m\u001b[0m\u001b[0;34m\u001b[0m\u001b[0m\n\u001b[1;32m    211\u001b[0m             \u001b[0mcallback\u001b[0m\u001b[0;34m(\u001b[0m\u001b[0mresult\u001b[0m\u001b[0;34m)\u001b[0m\u001b[0;34m\u001b[0m\u001b[0;34m\u001b[0m\u001b[0m\n",
      "\u001b[0;32m/usr/local/lib/python3.6/dist-packages/joblib/_parallel_backends.py\u001b[0m in \u001b[0;36m__init__\u001b[0;34m(self, batch)\u001b[0m\n\u001b[1;32m    588\u001b[0m         \u001b[0;31m# Don't delay the application, to avoid keeping the input\u001b[0m\u001b[0;34m\u001b[0m\u001b[0;34m\u001b[0m\u001b[0;34m\u001b[0m\u001b[0m\n\u001b[1;32m    589\u001b[0m         \u001b[0;31m# arguments in memory\u001b[0m\u001b[0;34m\u001b[0m\u001b[0;34m\u001b[0m\u001b[0;34m\u001b[0m\u001b[0m\n\u001b[0;32m--> 590\u001b[0;31m         \u001b[0mself\u001b[0m\u001b[0;34m.\u001b[0m\u001b[0mresults\u001b[0m \u001b[0;34m=\u001b[0m \u001b[0mbatch\u001b[0m\u001b[0;34m(\u001b[0m\u001b[0;34m)\u001b[0m\u001b[0;34m\u001b[0m\u001b[0;34m\u001b[0m\u001b[0m\n\u001b[0m\u001b[1;32m    591\u001b[0m \u001b[0;34m\u001b[0m\u001b[0m\n\u001b[1;32m    592\u001b[0m     \u001b[0;32mdef\u001b[0m \u001b[0mget\u001b[0m\u001b[0;34m(\u001b[0m\u001b[0mself\u001b[0m\u001b[0;34m)\u001b[0m\u001b[0;34m:\u001b[0m\u001b[0;34m\u001b[0m\u001b[0;34m\u001b[0m\u001b[0m\n",
      "\u001b[0;32m/usr/local/lib/python3.6/dist-packages/joblib/parallel.py\u001b[0m in \u001b[0;36m__call__\u001b[0;34m(self)\u001b[0m\n\u001b[1;32m    254\u001b[0m         \u001b[0;32mwith\u001b[0m \u001b[0mparallel_backend\u001b[0m\u001b[0;34m(\u001b[0m\u001b[0mself\u001b[0m\u001b[0;34m.\u001b[0m\u001b[0m_backend\u001b[0m\u001b[0;34m,\u001b[0m \u001b[0mn_jobs\u001b[0m\u001b[0;34m=\u001b[0m\u001b[0mself\u001b[0m\u001b[0;34m.\u001b[0m\u001b[0m_n_jobs\u001b[0m\u001b[0;34m)\u001b[0m\u001b[0;34m:\u001b[0m\u001b[0;34m\u001b[0m\u001b[0;34m\u001b[0m\u001b[0m\n\u001b[1;32m    255\u001b[0m             return [func(*args, **kwargs)\n\u001b[0;32m--> 256\u001b[0;31m                     for func, args, kwargs in self.items]\n\u001b[0m\u001b[1;32m    257\u001b[0m \u001b[0;34m\u001b[0m\u001b[0m\n\u001b[1;32m    258\u001b[0m     \u001b[0;32mdef\u001b[0m \u001b[0m__len__\u001b[0m\u001b[0;34m(\u001b[0m\u001b[0mself\u001b[0m\u001b[0;34m)\u001b[0m\u001b[0;34m:\u001b[0m\u001b[0;34m\u001b[0m\u001b[0;34m\u001b[0m\u001b[0m\n",
      "\u001b[0;32m/usr/local/lib/python3.6/dist-packages/joblib/parallel.py\u001b[0m in \u001b[0;36m<listcomp>\u001b[0;34m(.0)\u001b[0m\n\u001b[1;32m    254\u001b[0m         \u001b[0;32mwith\u001b[0m \u001b[0mparallel_backend\u001b[0m\u001b[0;34m(\u001b[0m\u001b[0mself\u001b[0m\u001b[0;34m.\u001b[0m\u001b[0m_backend\u001b[0m\u001b[0;34m,\u001b[0m \u001b[0mn_jobs\u001b[0m\u001b[0;34m=\u001b[0m\u001b[0mself\u001b[0m\u001b[0;34m.\u001b[0m\u001b[0m_n_jobs\u001b[0m\u001b[0;34m)\u001b[0m\u001b[0;34m:\u001b[0m\u001b[0;34m\u001b[0m\u001b[0;34m\u001b[0m\u001b[0m\n\u001b[1;32m    255\u001b[0m             return [func(*args, **kwargs)\n\u001b[0;32m--> 256\u001b[0;31m                     for func, args, kwargs in self.items]\n\u001b[0m\u001b[1;32m    257\u001b[0m \u001b[0;34m\u001b[0m\u001b[0m\n\u001b[1;32m    258\u001b[0m     \u001b[0;32mdef\u001b[0m \u001b[0m__len__\u001b[0m\u001b[0;34m(\u001b[0m\u001b[0mself\u001b[0m\u001b[0;34m)\u001b[0m\u001b[0;34m:\u001b[0m\u001b[0;34m\u001b[0m\u001b[0;34m\u001b[0m\u001b[0m\n",
      "\u001b[0;32m/usr/local/lib/python3.6/dist-packages/sklearn/model_selection/_validation.py\u001b[0m in \u001b[0;36m_fit_and_score\u001b[0;34m(estimator, X, y, scorer, train, test, verbose, parameters, fit_params, return_train_score, return_parameters, return_n_test_samples, return_times, return_estimator, error_score)\u001b[0m\n\u001b[1;32m    513\u001b[0m             \u001b[0mestimator\u001b[0m\u001b[0;34m.\u001b[0m\u001b[0mfit\u001b[0m\u001b[0;34m(\u001b[0m\u001b[0mX_train\u001b[0m\u001b[0;34m,\u001b[0m \u001b[0;34m**\u001b[0m\u001b[0mfit_params\u001b[0m\u001b[0;34m)\u001b[0m\u001b[0;34m\u001b[0m\u001b[0;34m\u001b[0m\u001b[0m\n\u001b[1;32m    514\u001b[0m         \u001b[0;32melse\u001b[0m\u001b[0;34m:\u001b[0m\u001b[0;34m\u001b[0m\u001b[0;34m\u001b[0m\u001b[0m\n\u001b[0;32m--> 515\u001b[0;31m             \u001b[0mestimator\u001b[0m\u001b[0;34m.\u001b[0m\u001b[0mfit\u001b[0m\u001b[0;34m(\u001b[0m\u001b[0mX_train\u001b[0m\u001b[0;34m,\u001b[0m \u001b[0my_train\u001b[0m\u001b[0;34m,\u001b[0m \u001b[0;34m**\u001b[0m\u001b[0mfit_params\u001b[0m\u001b[0;34m)\u001b[0m\u001b[0;34m\u001b[0m\u001b[0;34m\u001b[0m\u001b[0m\n\u001b[0m\u001b[1;32m    516\u001b[0m \u001b[0;34m\u001b[0m\u001b[0m\n\u001b[1;32m    517\u001b[0m     \u001b[0;32mexcept\u001b[0m \u001b[0mException\u001b[0m \u001b[0;32mas\u001b[0m \u001b[0me\u001b[0m\u001b[0;34m:\u001b[0m\u001b[0;34m\u001b[0m\u001b[0;34m\u001b[0m\u001b[0m\n",
      "\u001b[0;32m/usr/local/lib/python3.6/dist-packages/sklearn/ensemble/_forest.py\u001b[0m in \u001b[0;36mfit\u001b[0;34m(self, X, y, sample_weight)\u001b[0m\n\u001b[1;32m    381\u001b[0m                     \u001b[0mverbose\u001b[0m\u001b[0;34m=\u001b[0m\u001b[0mself\u001b[0m\u001b[0;34m.\u001b[0m\u001b[0mverbose\u001b[0m\u001b[0;34m,\u001b[0m \u001b[0mclass_weight\u001b[0m\u001b[0;34m=\u001b[0m\u001b[0mself\u001b[0m\u001b[0;34m.\u001b[0m\u001b[0mclass_weight\u001b[0m\u001b[0;34m,\u001b[0m\u001b[0;34m\u001b[0m\u001b[0;34m\u001b[0m\u001b[0m\n\u001b[1;32m    382\u001b[0m                     n_samples_bootstrap=n_samples_bootstrap)\n\u001b[0;32m--> 383\u001b[0;31m                 for i, t in enumerate(trees))\n\u001b[0m\u001b[1;32m    384\u001b[0m \u001b[0;34m\u001b[0m\u001b[0m\n\u001b[1;32m    385\u001b[0m             \u001b[0;31m# Collect newly grown trees\u001b[0m\u001b[0;34m\u001b[0m\u001b[0;34m\u001b[0m\u001b[0;34m\u001b[0m\u001b[0m\n",
      "\u001b[0;32m/usr/local/lib/python3.6/dist-packages/joblib/parallel.py\u001b[0m in \u001b[0;36m__call__\u001b[0;34m(self, iterable)\u001b[0m\n\u001b[1;32m   1015\u001b[0m \u001b[0;34m\u001b[0m\u001b[0m\n\u001b[1;32m   1016\u001b[0m             \u001b[0;32mwith\u001b[0m \u001b[0mself\u001b[0m\u001b[0;34m.\u001b[0m\u001b[0m_backend\u001b[0m\u001b[0;34m.\u001b[0m\u001b[0mretrieval_context\u001b[0m\u001b[0;34m(\u001b[0m\u001b[0;34m)\u001b[0m\u001b[0;34m:\u001b[0m\u001b[0;34m\u001b[0m\u001b[0;34m\u001b[0m\u001b[0m\n\u001b[0;32m-> 1017\u001b[0;31m                 \u001b[0mself\u001b[0m\u001b[0;34m.\u001b[0m\u001b[0mretrieve\u001b[0m\u001b[0;34m(\u001b[0m\u001b[0;34m)\u001b[0m\u001b[0;34m\u001b[0m\u001b[0;34m\u001b[0m\u001b[0m\n\u001b[0m\u001b[1;32m   1018\u001b[0m             \u001b[0;31m# Make sure that we get a last message telling us we are done\u001b[0m\u001b[0;34m\u001b[0m\u001b[0;34m\u001b[0m\u001b[0;34m\u001b[0m\u001b[0m\n\u001b[1;32m   1019\u001b[0m             \u001b[0melapsed_time\u001b[0m \u001b[0;34m=\u001b[0m \u001b[0mtime\u001b[0m\u001b[0;34m.\u001b[0m\u001b[0mtime\u001b[0m\u001b[0;34m(\u001b[0m\u001b[0;34m)\u001b[0m \u001b[0;34m-\u001b[0m \u001b[0mself\u001b[0m\u001b[0;34m.\u001b[0m\u001b[0m_start_time\u001b[0m\u001b[0;34m\u001b[0m\u001b[0;34m\u001b[0m\u001b[0m\n",
      "\u001b[0;32m/usr/local/lib/python3.6/dist-packages/joblib/parallel.py\u001b[0m in \u001b[0;36mretrieve\u001b[0;34m(self)\u001b[0m\n\u001b[1;32m    907\u001b[0m             \u001b[0;32mtry\u001b[0m\u001b[0;34m:\u001b[0m\u001b[0;34m\u001b[0m\u001b[0;34m\u001b[0m\u001b[0m\n\u001b[1;32m    908\u001b[0m                 \u001b[0;32mif\u001b[0m \u001b[0mgetattr\u001b[0m\u001b[0;34m(\u001b[0m\u001b[0mself\u001b[0m\u001b[0;34m.\u001b[0m\u001b[0m_backend\u001b[0m\u001b[0;34m,\u001b[0m \u001b[0;34m'supports_timeout'\u001b[0m\u001b[0;34m,\u001b[0m \u001b[0;32mFalse\u001b[0m\u001b[0;34m)\u001b[0m\u001b[0;34m:\u001b[0m\u001b[0;34m\u001b[0m\u001b[0;34m\u001b[0m\u001b[0m\n\u001b[0;32m--> 909\u001b[0;31m                     \u001b[0mself\u001b[0m\u001b[0;34m.\u001b[0m\u001b[0m_output\u001b[0m\u001b[0;34m.\u001b[0m\u001b[0mextend\u001b[0m\u001b[0;34m(\u001b[0m\u001b[0mjob\u001b[0m\u001b[0;34m.\u001b[0m\u001b[0mget\u001b[0m\u001b[0;34m(\u001b[0m\u001b[0mtimeout\u001b[0m\u001b[0;34m=\u001b[0m\u001b[0mself\u001b[0m\u001b[0;34m.\u001b[0m\u001b[0mtimeout\u001b[0m\u001b[0;34m)\u001b[0m\u001b[0;34m)\u001b[0m\u001b[0;34m\u001b[0m\u001b[0;34m\u001b[0m\u001b[0m\n\u001b[0m\u001b[1;32m    910\u001b[0m                 \u001b[0;32melse\u001b[0m\u001b[0;34m:\u001b[0m\u001b[0;34m\u001b[0m\u001b[0;34m\u001b[0m\u001b[0m\n\u001b[1;32m    911\u001b[0m                     \u001b[0mself\u001b[0m\u001b[0;34m.\u001b[0m\u001b[0m_output\u001b[0m\u001b[0;34m.\u001b[0m\u001b[0mextend\u001b[0m\u001b[0;34m(\u001b[0m\u001b[0mjob\u001b[0m\u001b[0;34m.\u001b[0m\u001b[0mget\u001b[0m\u001b[0;34m(\u001b[0m\u001b[0;34m)\u001b[0m\u001b[0;34m)\u001b[0m\u001b[0;34m\u001b[0m\u001b[0;34m\u001b[0m\u001b[0m\n",
      "\u001b[0;32m/usr/local/lib/python3.6/dist-packages/joblib/_parallel_backends.py\u001b[0m in \u001b[0;36mwrap_future_result\u001b[0;34m(future, timeout)\u001b[0m\n\u001b[1;32m    560\u001b[0m         AsyncResults.get from multiprocessing.\"\"\"\n\u001b[1;32m    561\u001b[0m         \u001b[0;32mtry\u001b[0m\u001b[0;34m:\u001b[0m\u001b[0;34m\u001b[0m\u001b[0;34m\u001b[0m\u001b[0m\n\u001b[0;32m--> 562\u001b[0;31m             \u001b[0;32mreturn\u001b[0m \u001b[0mfuture\u001b[0m\u001b[0;34m.\u001b[0m\u001b[0mresult\u001b[0m\u001b[0;34m(\u001b[0m\u001b[0mtimeout\u001b[0m\u001b[0;34m=\u001b[0m\u001b[0mtimeout\u001b[0m\u001b[0;34m)\u001b[0m\u001b[0;34m\u001b[0m\u001b[0;34m\u001b[0m\u001b[0m\n\u001b[0m\u001b[1;32m    563\u001b[0m         \u001b[0;32mexcept\u001b[0m \u001b[0mLokyTimeoutError\u001b[0m\u001b[0;34m:\u001b[0m\u001b[0;34m\u001b[0m\u001b[0;34m\u001b[0m\u001b[0m\n\u001b[1;32m    564\u001b[0m             \u001b[0;32mraise\u001b[0m \u001b[0mTimeoutError\u001b[0m\u001b[0;34m(\u001b[0m\u001b[0;34m)\u001b[0m\u001b[0;34m\u001b[0m\u001b[0;34m\u001b[0m\u001b[0m\n",
      "\u001b[0;32m/usr/lib/python3.6/concurrent/futures/_base.py\u001b[0m in \u001b[0;36mresult\u001b[0;34m(self, timeout)\u001b[0m\n\u001b[1;32m    425\u001b[0m                 \u001b[0;32mreturn\u001b[0m \u001b[0mself\u001b[0m\u001b[0;34m.\u001b[0m\u001b[0m__get_result\u001b[0m\u001b[0;34m(\u001b[0m\u001b[0;34m)\u001b[0m\u001b[0;34m\u001b[0m\u001b[0;34m\u001b[0m\u001b[0m\n\u001b[1;32m    426\u001b[0m \u001b[0;34m\u001b[0m\u001b[0m\n\u001b[0;32m--> 427\u001b[0;31m             \u001b[0mself\u001b[0m\u001b[0;34m.\u001b[0m\u001b[0m_condition\u001b[0m\u001b[0;34m.\u001b[0m\u001b[0mwait\u001b[0m\u001b[0;34m(\u001b[0m\u001b[0mtimeout\u001b[0m\u001b[0;34m)\u001b[0m\u001b[0;34m\u001b[0m\u001b[0;34m\u001b[0m\u001b[0m\n\u001b[0m\u001b[1;32m    428\u001b[0m \u001b[0;34m\u001b[0m\u001b[0m\n\u001b[1;32m    429\u001b[0m             \u001b[0;32mif\u001b[0m \u001b[0mself\u001b[0m\u001b[0;34m.\u001b[0m\u001b[0m_state\u001b[0m \u001b[0;32min\u001b[0m \u001b[0;34m[\u001b[0m\u001b[0mCANCELLED\u001b[0m\u001b[0;34m,\u001b[0m \u001b[0mCANCELLED_AND_NOTIFIED\u001b[0m\u001b[0;34m]\u001b[0m\u001b[0;34m:\u001b[0m\u001b[0;34m\u001b[0m\u001b[0;34m\u001b[0m\u001b[0m\n",
      "\u001b[0;32m/usr/lib/python3.6/threading.py\u001b[0m in \u001b[0;36mwait\u001b[0;34m(self, timeout)\u001b[0m\n\u001b[1;32m    293\u001b[0m         \u001b[0;32mtry\u001b[0m\u001b[0;34m:\u001b[0m    \u001b[0;31m# restore state no matter what (e.g., KeyboardInterrupt)\u001b[0m\u001b[0;34m\u001b[0m\u001b[0;34m\u001b[0m\u001b[0m\n\u001b[1;32m    294\u001b[0m             \u001b[0;32mif\u001b[0m \u001b[0mtimeout\u001b[0m \u001b[0;32mis\u001b[0m \u001b[0;32mNone\u001b[0m\u001b[0;34m:\u001b[0m\u001b[0;34m\u001b[0m\u001b[0;34m\u001b[0m\u001b[0m\n\u001b[0;32m--> 295\u001b[0;31m                 \u001b[0mwaiter\u001b[0m\u001b[0;34m.\u001b[0m\u001b[0macquire\u001b[0m\u001b[0;34m(\u001b[0m\u001b[0;34m)\u001b[0m\u001b[0;34m\u001b[0m\u001b[0;34m\u001b[0m\u001b[0m\n\u001b[0m\u001b[1;32m    296\u001b[0m                 \u001b[0mgotit\u001b[0m \u001b[0;34m=\u001b[0m \u001b[0;32mTrue\u001b[0m\u001b[0;34m\u001b[0m\u001b[0;34m\u001b[0m\u001b[0m\n\u001b[1;32m    297\u001b[0m             \u001b[0;32melse\u001b[0m\u001b[0;34m:\u001b[0m\u001b[0;34m\u001b[0m\u001b[0;34m\u001b[0m\u001b[0m\n",
      "\u001b[0;31mKeyboardInterrupt\u001b[0m: "
     ]
    }
   ],
   "source": [
    "# original param grid, used the first time we trained\n",
    "param_grid = {\n",
    "    'max_depth': [100, 90, 80],\n",
    "    'min_samples_leaf': [5, 4, 3],\n",
    "    'min_samples_split': [12, 10, 8],\n",
    "    'n_estimators': [150, 125, 100]\n",
    "    }\n",
    "\n",
    "\n",
    "# Do a training scheme using grid search and cross validation\n",
    "rf_step_1 = RandomForestClassifier(n_jobs=-1)\n",
    "cv_step_1 = StratifiedKFold(n_splits=3)\n",
    "grid_search_step_1 = GridSearchCV(estimator=rf_step_1,\n",
    "                                  param_grid=param_grid,\n",
    "                                  scoring=equal_error_rate,\n",
    "                                  cv=cv_step_1, verbose=3)\n",
    "\n",
    "grid_search_step_1.fit(X_train_step_1, y_train_step_1)\n",
    "print('Best parameters were: ',grid_search_step_1.best_parameters_)\n",
    "\n",
    "# test\n",
    "predictions_step_1 = grid_search_step_1.best_estimator_.predict(X_test_step_1)\n",
    "\n",
    "\n",
    "#rfc = RandomForestClassifier(n_estimators=150, max_depth=100, min_samples_leaf=5, min_samples_split=12)\n",
    "#rfc.fit(X_train_step_1, y_train_step_1)\n",
    "#predictions_step_1 = rfc.predict(X_test_step_1)\n",
    "\n",
    "# save classification metrics\n",
    "cm = confusion_matrix(y_test_step_1, predictions_step_1)\n",
    "cr = classification_report(y_test_step_1, predictions_step_1, output_dict=True)\n",
    "\n",
    "cr_df = pd.DataFrame(cr).transpose()\n",
    "cr_df.to_csv('classification_report_1.csv')\n",
    "\n",
    "cm_df = pd.DataFrame(cm)\n",
    "cm_df.to_csv('confusion_matrx_1.csv')\n",
    "\n",
    "# Save model for future usage\n",
    "dump(clf, 'grid_search_step_1.best_estimator_.joblib')\n",
    "# if you want to laod the model:\n",
    "# rfc = load('grid_search_step_1.best_estimator_.joblib')\n"
   ]
  },
  {
   "cell_type": "markdown",
   "metadata": {
    "colab_type": "text",
    "id": "DVDMF1CjX_EQ"
   },
   "source": [
    "## Old training scheme"
   ]
  },
  {
   "cell_type": "code",
   "execution_count": 0,
   "metadata": {
    "colab": {},
    "colab_type": "code",
    "id": "zEft1Z_EgU9G"
   },
   "outputs": [],
   "source": [
    "# list_of_training_x = np.array_split(X_train_step_1, 2)\n",
    "# list_of_training_y = np.array_split(y_train_step_1, 2)\n",
    "# n_estimators = 5\n",
    "\n",
    "# # train in batchs\n",
    "# rf_step_1 = RandomForestClassifier(warm_start=True, n_estimators=n_estimators, max_depth=100, min_samples_leaf=3, min_samples_split=10, verbose=3)\n",
    "# for i in range(2):\n",
    "#     rf_step_1.fit(list_of_training_x[i], list_of_training_y[i])\n",
    "#     rf_step_1.set_params(n_estimators=n_estimators)\n",
    "#     n_estimators+=5\n",
    "\n",
    "# # test and save results\n",
    "# predictions_step_1 = rf_step_1.predict(X_test_step_1)\n",
    "# cr = classification_report(y_test_step_1, predictions_step_1, output_dict=True)\n",
    "# df = pd.DataFrame(cr).transpose()\n",
    "# df.to_csv('result_1.csv')\n"
   ]
  },
  {
   "cell_type": "markdown",
   "metadata": {
    "colab_type": "text",
    "id": "BiUDNVKDgU9S"
   },
   "source": [
    "## Passo 2: Treino com adição de segmentos gerados aleatoriamente"
   ]
  },
  {
   "cell_type": "code",
   "execution_count": 0,
   "metadata": {
    "colab": {},
    "colab_type": "code",
    "id": "tF90RhgAgU9W"
   },
   "outputs": [],
   "source": [
    "plt.figure(figsize=(10,5))\n",
    "plt.title(\"Cumulative distribution of number of examples\")\n",
    "step_2['person'].value_counts(ascending=True).hist(cumulative=True, density=1)"
   ]
  },
  {
   "cell_type": "code",
   "execution_count": 0,
   "metadata": {
    "colab": {},
    "colab_type": "code",
    "id": "atiYKJ-mgU9T"
   },
   "outputs": [],
   "source": [
    "#le_step_2 = LabelEncoder()\n",
    "#step_2['person'] = pd.Series(le_step_2.fit_transform(step_2['person']))\n",
    "original_columns = ['mean_q', 'mean_r', 'mean_s', 'stdev_q', 'stdev_r','stdev_s',\n",
    "                   'mean_rr_interval', 'mean_rq_amplitude', 'mean_qrs_interval']\n",
    "\n",
    "X_step_2 = step_2[original_columns]\n",
    "# Preenche os dados faltosos com a média da respectiva coluna\n",
    "X_step_2 = X_step_2.apply(lambda x: x.fillna(x.mean()))\n",
    "# O objeto da predição é 'y' (os rótulos das classes)\n",
    "y_step_2 = step_2['person']\n",
    "\n",
    "X_train_step_2, X_test_step_2, y_train_step_2, y_test_step_2 = train_test_split(X_step_2, y_step_2,\n",
    "                                                                                test_size = 0.2, random_state=42\n",
    "                                                                               stratify=y_step_2)"
   ]
  },
  {
   "cell_type": "code",
   "execution_count": 0,
   "metadata": {
    "colab": {},
    "colab_type": "code",
    "id": "SNq_lb58rpI7"
   },
   "outputs": [],
   "source": [
    "param_grid = {\n",
    "    'max_depth': [100, 90, 80],\n",
    "    'min_samples_leaf': [5, 4, 3],\n",
    "    'min_samples_split': [12, 10, 8],\n",
    "    'n_estimators': [150, 125, 100]\n",
    "    }\n",
    "\n",
    "\n",
    "# Do a training scheme using grid search and cross validation\n",
    "rf_step_2 = RandomForestClassifier(n_jobs=-1)\n",
    "cv_step_2 = StratifiedKFold(n_splits=3)\n",
    "grid_search_step_2 = GridSearchCV(estimator=rf_step_2,\n",
    "                                  param_grid=param_grid,\n",
    "                                  scoring=equal_error_rate,\n",
    "                                  cv=cv_step_2, verbose=3)\n",
    "\n",
    "grid_search_step_2.fit(X_train_step_2, y_train_step_2)\n",
    "print('Best parameters were: ',grid_search_step_2.best_parameters_)\n",
    "\n",
    "# test\n",
    "predictions_step_2 = grid_search_step_2.best_estimator_.predict(X_test_step_2)\n",
    "\n",
    "\n",
    "#rfc = RandomForestClassifier(n_estimators=150, max_depth=100, min_samples_leaf=5, min_samples_split=12)\n",
    "#rfc.fit(X_train_step_2, y_train_step_2)\n",
    "#predictions_step_2 = rfc.predict(X_test_step_2)\n",
    "\n",
    "# save classification metrics\n",
    "cm_step_2 = confusion_matrix(y_test_step_2, predictions_step_2)\n",
    "cr_step_2 = classification_report(y_test_step_2, predictions_step_2, output_dict=True)\n",
    "\n",
    "cr_df = pd.DataFrame(cr).transpose()\n",
    "cr_df.to_csv('classification_report_2.csv')\n",
    "\n",
    "pd.DataFrame(cm_step_2).to_csv('confusion_matrx_2.csv')\n",
    "\n",
    "# Save model for future usage\n",
    "dump(clf, 'grid_search_step_2.best_estimator_.joblib')\n",
    "# if you want to laod the model:\n",
    "# rfc = load('grid_search_step_2.best_estimator_.joblib')"
   ]
  },
  {
   "cell_type": "markdown",
   "metadata": {
    "colab_type": "text",
    "id": "wE1AKp_yren7"
   },
   "source": [
    "## Old training scheme"
   ]
  },
  {
   "cell_type": "code",
   "execution_count": 0,
   "metadata": {
    "colab": {},
    "colab_type": "code",
    "id": "Z8BfbMQhgU9a"
   },
   "outputs": [],
   "source": [
    "# list_of_training_x = np.array_split(X_train_step_2, 2)\n",
    "# list_of_training_y = np.array_split(y_train_step_2, 2)\n",
    "# n_estimators = 50\n",
    "\n",
    "# rf_step_2 = RandomForestClassifier(warm_start=True, n_estimators=n_estimators, max_depth=100, min_samples_leaf=3, min_samples_split=10, verbose=3)\n",
    "# for i in range(2):\n",
    "#     rf_step_2.fit(list_of_training_x[i], list_of_training_y[i])\n",
    "#     rf_step_2.set_params(n_estimators=n_estimators)\n",
    "#     n_estimators+=50\n",
    "\n",
    "# predictions_step_2 = rf_step_2.predict(X_test_step_2)\n",
    "\n",
    "\n",
    "# # testing\n",
    "# cr_step_2 = classification_report(y_test_step_2, predictions_step_2, output_dict=True)\n",
    "# cr_df_step_2 = pd.DataFrame(cr_step_2).transpose()\n",
    "# cr_df_step_2.to_csv('result_2.csv')"
   ]
  },
  {
   "cell_type": "markdown",
   "metadata": {
    "colab_type": "text",
    "id": "1_9qq_BNgU9g"
   },
   "source": [
    "## Passo 3: Treino com adição de segmentos gerados aleatoriamente e remoção de outliers"
   ]
  },
  {
   "cell_type": "code",
   "execution_count": 0,
   "metadata": {
    "colab": {},
    "colab_type": "code",
    "id": "o3Sfs4nbhrIY"
   },
   "outputs": [],
   "source": [
    "plt.figure(figsize=(10,5))\n",
    "plt.title(\"Cumulative distribution of number of examples\")\n",
    "step_3['person'].value_counts(ascending=True).hist(cumulative=True, density=1)"
   ]
  },
  {
   "cell_type": "code",
   "execution_count": 0,
   "metadata": {
    "colab": {},
    "colab_type": "code",
    "id": "WLj6E66ChyN_"
   },
   "outputs": [],
   "source": [
    "## Remove pessoas que tem menos que 60 segmentos\n",
    "min_n_of_segments = 60\n",
    "mask = step_3['person'].value_counts() < min_n_of_segments\n",
    "people_to_remove = list(mask[mask].index)\n",
    "for person in people_to_remove:\n",
    "    step_3 = step_3[step_3.person != person]"
   ]
  },
  {
   "cell_type": "code",
   "execution_count": 0,
   "metadata": {
    "colab": {},
    "colab_type": "code",
    "id": "gE95-EKZRUAs"
   },
   "outputs": [],
   "source": [
    "#le_step_3 = LabelEncoder()\n",
    "#step_3['person'] = pd.Series(le_step_3.fit_transform(step_3['person']))\n",
    "original_columns = ['mean_q', 'mean_r', 'mean_s', 'stdev_q', 'stdev_r','stdev_s',\n",
    "                   'mean_rr_interval', 'mean_rq_amplitude', 'mean_qrs_interval']\n",
    "\n",
    "X_step_3 = step_3[original_columns]\n",
    "# Preenche os dados faltosos com a média da respectiva coluna\n",
    "X_step_3 = X_step_3.apply(lambda x: x.fillna(x.mean()))\n",
    "# O objeto da predição é 'y' (os rótulos das classes)\n",
    "y_step_3 = step_3['person']\n",
    "\n",
    "X_train_step_3, X_test_step_3, y_train_step_3, y_test_step_3 = train_test_split(X_step_3, y_step_3,\n",
    "                                                                                test_size = 0.2, random_state=42,\n",
    "                                                                                stratify=y_step_3)\n",
    "print(f'Há {y_train_step_3.nunique()} classes únicas no conjunto de TREINO')\n",
    "print(f'Há {y_test_step_3.nunique()} classes únicas no conjunto de TESTE')"
   ]
  },
  {
   "cell_type": "code",
   "execution_count": 0,
   "metadata": {
    "colab": {},
    "colab_type": "code",
    "id": "4TzRtRSRsPz1"
   },
   "outputs": [],
   "source": [
    "# original param grid, used the first time we trained\n",
    "param_grid = {\n",
    "    'max_depth': [100, 90, 80],\n",
    "    'min_samples_leaf': [5, 4, 3],\n",
    "    'min_samples_split': [12, 10, 8],\n",
    "    'n_estimators': [150, 125, 100]\n",
    "    }\n",
    "\n",
    "\n",
    "# Do a training scheme using grid search and cross validation\n",
    "rf_step_3 = RandomForestClassifier(n_jobs=-1)\n",
    "cv_step_3 = StratifiedKFold(n_splits=3)\n",
    "grid_search_step_3 = GridSearchCV(estimator=rf_step_3,\n",
    "                                  param_grid=param_grid,\n",
    "                                  scoring=equal_error_rate,\n",
    "                                  cv=cv_step_3, verbose=3)\n",
    "\n",
    "grid_search_step_3.fit(X_train_step_3, y_train_step_3)\n",
    "print('Best parameters were: ',grid_search_step_3.best_parameters_)\n",
    "\n",
    "# test\n",
    "predictions_step_3 = grid_search_step_3.best_estimator_.predict(X_test_step_3)\n",
    "\n",
    "\n",
    "#rfc = RandomForestClassifier(n_estimators=150, max_depth=100, min_samples_leaf=5, min_samples_split=12)\n",
    "#rfc.fit(X_train_step_3, y_train_step_3)\n",
    "#predictions_step_3 = rfc.predict(X_test_step_3)\n",
    "\n",
    "# save classification metrics\n",
    "cm_step_3 = confusion_matrix(y_test_step_3, predictions_step_3)\n",
    "cr_step_3 = classification_report(y_test_step_3, predictions_step_3, output_dict=True)\n",
    "\n",
    "cr_df = pd.DataFrame(cr).transpose()\n",
    "cr_df.to_csv('classification_report_3.csv')\n",
    "\n",
    "pd.DataFrame(cm_step_3).to_csv('confusion_matrx_3.csv')\n",
    "\n",
    "# Save model for future usage\n",
    "dump(clf, 'grid_search_step_3.best_estimator_.joblib')\n",
    "# if you want to laod the model:\n",
    "# rfc = load('grid_search_step_3.best_estimator_.joblib')"
   ]
  },
  {
   "cell_type": "markdown",
   "metadata": {
    "colab_type": "text",
    "id": "8uvGM9J6sQm-"
   },
   "source": [
    "## Old training scheme"
   ]
  },
  {
   "cell_type": "code",
   "execution_count": 0,
   "metadata": {
    "colab": {},
    "colab_type": "code",
    "id": "j7hC7qujReaT"
   },
   "outputs": [],
   "source": [
    "# batch_size = 3\n",
    "# list_of_training_x_step_3 = np.array_split(X_train_step_3, batch_size)\n",
    "# list_of_training_y_step_3 = np.array_split(y_train_step_3, batch_size)\n",
    "# n_estimators = 50\n",
    "\n",
    "# # Verifica sem algum split ficou com uma amostra a menos\n",
    "# for count, y in enumerate(list_of_training_y_step_3):\n",
    "#     print(f'Elementos unicos no split {count}:', y.nunique())\n",
    "\n",
    "# rf_step_3 = RandomForestClassifier(warm_start=True, n_estimators=n_estimators, max_depth=100, min_samples_leaf=3, min_samples_split=10, verbose=3)\n",
    "\n",
    "# for i in range(batch_size):\n",
    "#     rf_step_3.fit(list_of_training_x_step_3[i], list_of_training_y_step_3[i])\n",
    "#     n_estimators += 50\n",
    "#     rf_step_3.set_params(n_estimators=n_estimators)\n",
    "\n",
    "# # Testing\n",
    "# predictions_step_3 = rf_step_3.predict(X_test_step_3)\n",
    "# cr_step_3 = classification_report(y_test_step_3, predictions_step_3, output_dict=True)\n",
    "# cr_df_step_3 = pd.DataFrame(cr_step_3).transpose()\n",
    "# cr_df_step_3.to_csv('result_3.csv')"
   ]
  },
  {
   "cell_type": "markdown",
   "metadata": {
    "colab_type": "text",
    "id": "qxZFNJw802cA"
   },
   "source": [
    "## Passo 4: Todas as features, segmentos aleatórios e remoção de outliers "
   ]
  },
  {
   "cell_type": "code",
   "execution_count": 0,
   "metadata": {
    "colab": {},
    "colab_type": "code",
    "id": "EQ1nx_pT0-A-"
   },
   "outputs": [],
   "source": [
    "## Remove pessoas que tem menos que 60 segmentos\n",
    "min_n_of_segments = 60\n",
    "mask = step_5['person'].value_counts() < min_n_of_segments\n",
    "people_to_remove = list(mask[mask].index)\n",
    "\n",
    "for person in people_to_remove:\n",
    "    step_4 = step_5[step_5.person != person]"
   ]
  },
  {
   "cell_type": "code",
   "execution_count": 0,
   "metadata": {
    "colab": {},
    "colab_type": "code",
    "id": "ZRVbP5r01Lsz"
   },
   "outputs": [],
   "source": [
    "#le_step_4 = LabelEncoder()\n",
    "#step_5['person'] = pd.Series(le_step_4.fit_transform(step_5['person']))\n",
    "\n",
    "X_step_4 = step_5.drop('person', axis=1)\n",
    "# Preenche os dados faltosos com a média da respectiva coluna\n",
    "X_step_4 = X_step_4.apply(lambda x: x.fillna(x.mean()))\n",
    "# O objeto da predição é 'y' (os rótulos das classes)\n",
    "y_step_4 = step_5['person']\n",
    "\n",
    "X_train_step_4, X_test_step_4, y_train_step_4, y_test_step_4 = train_test_split(X_step_4, y_step_4,\n",
    "                                                                                test_size = 0.2, random_state=42\n",
    "                                                                                stratify=y_step_4)\n",
    "print(f'Há {y_train_step_4.nunique()} classes únicas no conjunto de TREINO')\n",
    "print(f'Há {y_test_step_4.nunique()} classes únicas no conjunto de TESTE')"
   ]
  },
  {
   "cell_type": "code",
   "execution_count": 0,
   "metadata": {
    "colab": {},
    "colab_type": "code",
    "id": "BmyfE_dVs8eK"
   },
   "outputs": [],
   "source": [
    "# original param grid, used the first time we trained\n",
    "param_grid = {\n",
    "    'max_depth': [100, 90, 80],\n",
    "    'min_samples_leaf': [5, 4, 3],\n",
    "    'min_samples_split': [12, 10, 8],\n",
    "    'n_estimators': [150, 125, 100]\n",
    "    }\n",
    "\n",
    "\n",
    "# Do a training scheme using grid search and cross validation\n",
    "rf_step_4 = RandomForestClassifier(n_jobs=-1)\n",
    "cv_step_4 = StratifiedKFold(n_splits=3)\n",
    "grid_search_step_4 = GridSearchCV(estimator=rf_step_4,\n",
    "                                  param_grid=param_grid,\n",
    "                                  scoring=equal_error_rate,\n",
    "                                  cv=cv_step_4, verbose=3)\n",
    "\n",
    "grid_search_step_4.fit(X_train_step_4, y_train_step_4)\n",
    "print('Best parameters were: ',grid_search_step_4.best_parameters_)\n",
    "\n",
    "# test\n",
    "predictions_step_4 = grid_search_step_4.best_estimator_.predict(X_test_step_4)\n",
    "\n",
    "\n",
    "#rfc = RandomForestClassifier(n_estimators=150, max_depth=100, min_samples_leaf=5, min_samples_split=12)\n",
    "#rfc.fit(X_train_step_4, y_train_step_4)\n",
    "#predictions_step_4 = rfc.predict(X_test_step_4)\n",
    "\n",
    "# save classification metrics\n",
    "cm_step_4 = confusion_matrix(y_test_step_4, predictions_step_4)\n",
    "cr_step_4 = classification_report(y_test_step_4, predictions_step_4, output_dict=True)\n",
    "\n",
    "cr_df = pd.DataFrame(cr).transpose()\n",
    "cr_df.to_csv('classification_report_4.csv')\n",
    "\n",
    "pd.DataFrame(cm_step_4).to_csv('confusion_matrx_4.csv')\n",
    "\n",
    "# Save model for future usage\n",
    "dump(clf, 'grid_search_step_4.best_estimator_.joblib')\n",
    "# if you want to laod the model:\n",
    "# rfc = load('grid_search_step_4.best_estimator_.joblib')"
   ]
  },
  {
   "cell_type": "markdown",
   "metadata": {
    "colab_type": "text",
    "id": "wTeUeNXAtdf1"
   },
   "source": [
    "## Old training scheme"
   ]
  },
  {
   "cell_type": "code",
   "execution_count": 0,
   "metadata": {
    "colab": {},
    "colab_type": "code",
    "id": "3dzqPuMx1MDE"
   },
   "outputs": [],
   "source": [
    "# batch_size = 4\n",
    "# list_of_training_x_step_4 = np.array_split(X_train_step_4, batch_size)\n",
    "# list_of_training_y_step_4 = np.array_split(y_train_step_4, batch_size)\n",
    "# n_estimators = 10\n",
    "\n",
    "# # Verifica sem algum split ficou com uma amostra a menos\n",
    "# for count, y in enumerate(list_of_training_y_step_4):\n",
    "#     print(f'Elementos unicos no split {count}:', y.nunique())\n",
    "\n",
    "# rf_step_4 = RandomForestClassifier(warm_start=True, n_estimators=n_estimators, max_depth=100, min_samples_leaf=3, min_samples_split=10, verbose=3)\n",
    "\n",
    "# for i in range(batch_size):\n",
    "#     rf_step_4.fit(list_of_training_x_step_4[i], list_of_training_y_step_4[i])\n",
    "#     n_estimators += 35\n",
    "#     rf_step_4.set_params(n_estimators=n_estimators)\n",
    "\n",
    "# # Testing\n",
    "# predictions_step_4 = rf_step_4.predict(X_test_step_4)\n",
    "# cr_Step_4 = classification_report(y_test_Step_4, predictions_Step_4, output_dict=True)\n",
    "# cr_df_Step_4 = pd.DataFrame(cr_Step_4).transpose()\n",
    "# cr_df_Step_4.to_csv('result_5.csv')"
   ]
  },
  {
   "cell_type": "markdown",
   "metadata": {
    "colab_type": "text",
    "id": "7ADmpqTQAm9M"
   },
   "source": [
    "## Visualizing a few model insights:\n",
    "\n"
   ]
  },
  {
   "cell_type": "markdown",
   "metadata": {
    "colab_type": "text",
    "id": "JAuprHe1NslJ"
   },
   "source": [
    "## Single decision tree  \n",
    "\n",
    "\n"
   ]
  },
  {
   "cell_type": "code",
   "execution_count": 0,
   "metadata": {
    "colab": {},
    "colab_type": "code",
    "id": "JRzm9j2rNncO"
   },
   "outputs": [],
   "source": [
    "dot_data = tree.export_graphviz(rf_step_4.estimators_[4], out_file=None,\n",
    "                                feature_names=X_step_4.columns, max_depth=1,\n",
    "                                class_names=y.unique(),  \n",
    "                                filled=True, special_characters=True)\n",
    "graph = graphviz.Source(dot_data)\n",
    "image_bytes = graph.pipe(format='eps')\n",
    "\n",
    "# Save tree image on Google Drive\n",
    "with open('trees_visualization.eps','wb') as picture_file:\n",
    "    picture_file.write(image_bytes)\n",
    "\n",
    "# Preview tree image o Colab\n",
    "graph.render(\"trees_visualization\") \n",
    "graph"
   ]
  },
  {
   "cell_type": "markdown",
   "metadata": {
    "colab_type": "text",
    "id": "Xn5T0FDorrX6"
   },
   "source": [
    "## Checking model feature importance"
   ]
  },
  {
   "cell_type": "code",
   "execution_count": 0,
   "metadata": {
    "colab": {},
    "colab_type": "code",
    "id": "Tq6AkhALrnKx"
   },
   "outputs": [],
   "source": [
    "importances = [(feature, round(importance, 2)) for feature, importance in zip(X_step_4.columns, rf_step_4.feature_importances_)]\n",
    "sorted_importances = sorted(importances, key=lambda x:x[1], reverse=True) \n",
    "\n",
    "for pair in sorted_importances:\n",
    "    print('Feature: {:20} Importance: {}'.format(*pair))"
   ]
  },
  {
   "cell_type": "code",
   "execution_count": 0,
   "metadata": {
    "colab": {},
    "colab_type": "code",
    "id": "uP2b7Buwrz93"
   },
   "outputs": [],
   "source": [
    "x_values = range(len(rf_step_4.feature_importances_))\n",
    "plt.figure(figsize=(10,5))\n",
    "plt.ylabel('Importance')\n",
    "plt.xlabel('Feature')\n",
    "plt.title('Feature Importance')\n",
    "plt.xticks(x_values, X_step_4.columns, rotation='vertical')\n",
    "plt.bar(x_values, rf_step_4.feature_importances_, orientation = 'vertical')"
   ]
  }
 ],
 "metadata": {
  "colab": {
   "collapsed_sections": [],
   "machine_shape": "hm",
   "name": "ECG indentification scenarios.ipynb",
   "provenance": []
  },
  "kernelspec": {
   "display_name": "Python 3",
   "language": "python",
   "name": "python3"
  },
  "language_info": {
   "codemirror_mode": {
    "name": "ipython",
    "version": 3
   },
   "file_extension": ".py",
   "mimetype": "text/x-python",
   "name": "python",
   "nbconvert_exporter": "python",
   "pygments_lexer": "ipython3",
   "version": "3.7.4"
  }
 },
 "nbformat": 4,
 "nbformat_minor": 1
}
