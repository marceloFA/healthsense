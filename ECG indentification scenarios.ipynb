{
 "cells": [
  {
   "cell_type": "code",
   "execution_count": 1,
   "metadata": {
    "colab": {
     "base_uri": "https://localhost:8080/",
     "height": 34
    },
    "colab_type": "code",
    "id": "MaoKznvegU8o",
    "outputId": "ce087bab-ebf2-408c-a8d5-f573bafa9361"
   },
   "outputs": [],
   "source": [
    "import pandas as pd\n",
    "import numpy as np\n",
    "from scipy import stats\n",
    "from joblib import dump, load\n",
    "\n",
    "# Data visualization\n",
    "import matplotlib.pyplot as plt\n",
    "import seaborn as sns\n",
    "sns.set(style=\"whitegrid\")\n",
    "\n",
    "# Sklearn imports\n",
    "from sklearn.multiclass import OneVsRestClassifier\n",
    "from sklearn.model_selection import GridSearchCV\n",
    "from sklearn.model_selection import train_test_split, StratifiedKFold\n",
    "from sklearn.ensemble import RandomForestClassifier\n",
    "from sklearn import tree\n",
    "# old classification metrics\n",
    "from sklearn.metrics import ( classification_report, confusion_matrix, \n",
    "                             precision_score, accuracy_score, \n",
    "                             precision_recall_fscore_support )\n",
    "# new classification metrics\n",
    "from sklearn.metrics import make_scorer, roc_curve \n",
    "\n",
    "# Decision tree visualization\n",
    "#!pip install graphviz\n",
    "import graphviz"
   ]
  },
  {
   "cell_type": "code",
   "execution_count": 2,
   "metadata": {
    "colab": {
     "base_uri": "https://localhost:8080/",
     "height": 34
    },
    "colab_type": "code",
    "id": "4NKy3F3ShyrJ",
    "outputId": "107b804a-1b8c-4530-ebd5-eaccfc819b50"
   },
   "outputs": [],
   "source": [
    "#from google.colab import drive, files\n",
    "#drive.mount('/content/drive')"
   ]
  },
  {
   "cell_type": "code",
   "execution_count": 3,
   "metadata": {
    "colab": {
     "base_uri": "https://localhost:8080/",
     "height": 34
    },
    "colab_type": "code",
    "id": "v-dwa6SQkuwv",
    "outputId": "2d19dc0f-6809-4ed7-e89f-2f464ffbb4a8"
   },
   "outputs": [],
   "source": [
    "#cd \"/content/drive/My Drive/UFPA/Healthsense/\""
   ]
  },
  {
   "cell_type": "markdown",
   "metadata": {
    "colab_type": "text",
    "id": "Ho5ZooPYgU80"
   },
   "source": [
    "## Introduzindo os dados"
   ]
  },
  {
   "cell_type": "code",
   "execution_count": 2,
   "metadata": {
    "colab": {},
    "colab_type": "code",
    "id": "DDP33eJUgU81"
   },
   "outputs": [],
   "source": [
    "step_1 = pd.read_csv('challenge_raw_everyone.csv')\n",
    "step_2 = pd.read_csv('challenge_processed_everyone.csv')\n",
    "step_3 = pd.read_csv('challenge_cleaned_everyone.csv')\n",
    "step_4 = pd.read_csv('challenge_cleaned_everyone.csv')"
   ]
  },
  {
   "cell_type": "markdown",
   "metadata": {
    "colab_type": "text",
    "id": "zzOhh5EhlWUk"
   },
   "source": [
    "## Custom scorer based on the False Acceptance Rate and False Rejection Rate\n",
    "\n",
    "False Acceptance rate:\n",
    "\n",
    "Number acceptance of impostors / total number of impostors\n",
    "\n",
    "False Rejection rate:\n",
    "\n",
    "Number rejected of impostors / total number of impostors\n",
    "\n",
    "\n",
    "### Source of information:\n",
    "### https://www.recogtech.com/en/knowledge-base/security-level-versus-user-convenience \n",
    "### https://stackoverflow.com/questions/28339746/equal-error-rate-in-python"
   ]
  },
  {
   "cell_type": "code",
   "execution_count": null,
   "metadata": {
    "colab": {},
    "colab_type": "code",
    "id": "aypT9VZqlVPK"
   },
   "outputs": [],
   "source": []
  },
  {
   "cell_type": "code",
   "execution_count": null,
   "metadata": {
    "colab": {},
    "colab_type": "code",
    "id": "6qCh5_MJqrlh"
   },
   "outputs": [],
   "source": []
  },
  {
   "cell_type": "markdown",
   "metadata": {
    "colab_type": "text",
    "id": "gtsuyT6IgU89"
   },
   "source": [
    "## Passo 1: Treino sem modificações aos dados originais"
   ]
  },
  {
   "cell_type": "code",
   "execution_count": 5,
   "metadata": {
    "colab": {
     "base_uri": "https://localhost:8080/",
     "height": 355
    },
    "colab_type": "code",
    "id": "YcbewVamgU9C",
    "outputId": "e6bd3f1d-844d-4a3f-db7e-1b7dd7b8b492"
   },
   "outputs": [
    {
     "data": {
      "text/plain": [
       "<matplotlib.axes._subplots.AxesSubplot at 0x7fe76759af50>"
      ]
     },
     "execution_count": 5,
     "metadata": {},
     "output_type": "execute_result"
    },
    {
     "data": {
      "image/png": "[encoded data removed]",
      "text/plain": [
       "<Figure size 720x360 with 1 Axes>"
      ]
     },
     "metadata": {
      "needs_background": "light"
     },
     "output_type": "display_data"
    }
   ],
   "source": [
    "plt.figure(figsize=(10,5))\n",
    "plt.title(\"Cumulative distribution of number of examples\")\n",
    "step_1['person'].value_counts(ascending=True).hist(cumulative=True, density=1)"
   ]
  },
  {
   "cell_type": "code",
   "execution_count": 6,
   "metadata": {
    "colab": {},
    "colab_type": "code",
    "id": "IaSaauikmso9"
   },
   "outputs": [],
   "source": [
    "min_n_of_segments = 17\n",
    "mask = step_1['person'].value_counts() < min_n_of_segments\n",
    "people_to_remove = list(mask[mask].index)\n",
    "\n",
    "for person in people_to_remove:\n",
    "    step_1 = step_1[step_1.person != person]"
   ]
  },
  {
   "cell_type": "code",
   "execution_count": 7,
   "metadata": {
    "colab": {},
    "colab_type": "code",
    "id": "IXMf70cAgU8-"
   },
   "outputs": [],
   "source": [
    "original_columns = ['mean_q', 'mean_r', 'mean_s', 'stdev_q', 'stdev_r','stdev_s',\n",
    "                   'mean_rr_interval', 'mean_rq_amplitude', 'mean_qrs_interval']\n",
    "\n",
    "X_step_1 = step_1[original_columns]\n",
    "# Preenche os dados faltosos com a média da respectiva coluna\n",
    "X_step_1 = X_step_1.apply(lambda x: x.fillna(x.mean()))\n",
    "# O objeto da predição é 'y' (os rótulos das classes)\n",
    "y_step_1 = step_1['person']\n",
    "X_train_step_1, X_test_step_1, y_train_step_1, y_test_step_1 = train_test_split(X_step_1, y_step_1, stratify=y_step_1,\n",
    "                                                                                test_size = 0.2, random_state=42)"
   ]
  },
  {
   "cell_type": "markdown",
   "metadata": {
    "colab_type": "text",
    "id": "V9sLE6uDX5e7"
   },
   "source": [
    "### New training scheme"
   ]
  },
  {
   "cell_type": "code",
   "execution_count": 8,
   "metadata": {
    "colab": {},
    "colab_type": "code",
    "id": "_QiOTshxVC5y"
   },
   "outputs": [
    {
     "name": "stderr",
     "output_type": "stream",
     "text": [
      "/home/renato/anaconda3/lib/python3.7/site-packages/sklearn/metrics/_classification.py:1272: UndefinedMetricWarning: Precision and F-score are ill-defined and being set to 0.0 in labels with no predicted samples. Use `zero_division` parameter to control this behavior.\n",
      "  _warn_prf(average, modifier, msg_start, len(result))\n",
      "/home/renato/anaconda3/lib/python3.7/site-packages/sklearn/metrics/_classification.py:1272: UndefinedMetricWarning: Precision and F-score are ill-defined and being set to 0.0 in labels with no predicted samples. Use `zero_division` parameter to control this behavior.\n",
      "  _warn_prf(average, modifier, msg_start, len(result))\n",
      "/home/renato/anaconda3/lib/python3.7/site-packages/sklearn/metrics/_classification.py:1272: UndefinedMetricWarning: Precision and F-score are ill-defined and being set to 0.0 in labels with no predicted samples. Use `zero_division` parameter to control this behavior.\n",
      "  _warn_prf(average, modifier, msg_start, len(result))\n"
     ]
    },
    {
     "data": {
      "text/plain": [
       "['one_vs_rest_classifier_step_1.joblib']"
      ]
     },
     "execution_count": 8,
     "metadata": {},
     "output_type": "execute_result"
    }
   ],
   "source": [
    "rf_step_1 = RandomForestClassifier(n_estimators=120, min_samples_leaf=5, min_samples_split=12, max_depth=100)\n",
    "ovr_step_1 = OneVsRestClassifier(estimator=rf_step_1, n_jobs=-1)\n",
    "\n",
    "# train\n",
    "ovr_step_1.fit(X_train_step_1, y_train_step_1)\n",
    "\n",
    "# predict probabilites\n",
    "probabilities_step_1 = ovr_step_1.predict_proba(X_test_step_1)\n",
    "prob_df_step_1 = pd.DataFrame(probabilities_step_1)\n",
    "prob_df_step_1.to_csv('probabilities_step_1.csv')\n",
    "\n",
    "# predict classes\n",
    "predictions_step_1 = ovr_step_1.predict(X_test_step_1)\n",
    "\n",
    "# save classification metrics\n",
    "cm = confusion_matrix(y_test_step_1, predictions_step_1)\n",
    "cr = classification_report(y_test_step_1, predictions_step_1, output_dict=True)\n",
    "\n",
    "cr_df = pd.DataFrame(cr).transpose()\n",
    "cr_df.to_csv('classification_report_1.csv')\n",
    "\n",
    "cm_df = pd.DataFrame(cm)\n",
    "cm_df.to_csv('confusion_matrix_1.csv')\n",
    "\n",
    "# dump the model\n",
    "dump(ovr_step_1, 'one_vs_rest_classifier_step_1.joblib')"
   ]
  },
  {
   "cell_type": "markdown",
   "metadata": {
    "colab_type": "text",
    "id": "BiUDNVKDgU9S"
   },
   "source": [
    "## Passo 2: Treino com adição de segmentos gerados aleatoriamente"
   ]
  },
  {
   "cell_type": "code",
   "execution_count": 9,
   "metadata": {
    "colab": {
     "base_uri": "https://localhost:8080/",
     "height": 518
    },
    "colab_type": "code",
    "id": "tF90RhgAgU9W",
    "outputId": "bb90c775-8a9f-4b7e-cd83-c1d2e108e542"
   },
   "outputs": [
    {
     "data": {
      "text/plain": [
       "<matplotlib.axes._subplots.AxesSubplot at 0x7fe7655477d0>"
      ]
     },
     "execution_count": 9,
     "metadata": {},
     "output_type": "execute_result"
    },
    {
     "data": {
      "image/png": "[encoded data removed]",
      "text/plain": [
       "<Figure size 720x360 with 1 Axes>"
      ]
     },
     "metadata": {
      "needs_background": "light"
     },
     "output_type": "display_data"
    }
   ],
   "source": [
    "plt.figure(figsize=(10,5))\n",
    "plt.title(\"Cumulative distribution of number of examples\")\n",
    "step_2['person'].value_counts(ascending=True).hist(cumulative=True, density=1)"
   ]
  },
  {
   "cell_type": "code",
   "execution_count": 10,
   "metadata": {
    "colab": {},
    "colab_type": "code",
    "id": "atiYKJ-mgU9T"
   },
   "outputs": [],
   "source": [
    "#le_step_2 = LabelEncoder()\n",
    "#step_2['person'] = pd.Series(le_step_2.fit_transform(step_2['person']))\n",
    "original_columns = ['mean_q', 'mean_r', 'mean_s', 'stdev_q', 'stdev_r','stdev_s',\n",
    "                   'mean_rr_interval', 'mean_rq_amplitude', 'mean_qrs_interval']\n",
    "\n",
    "X_step_2 = step_2[original_columns]\n",
    "# Preenche os dados faltosos com a média da respectiva coluna\n",
    "X_step_2 = X_step_2.apply(lambda x: x.fillna(x.mean()))\n",
    "# O objeto da predição é 'y' (os rótulos das classes)\n",
    "y_step_2 = step_2['person']\n",
    "\n",
    "X_train_step_2, X_test_step_2, y_train_step_2, y_test_step_2 = train_test_split(X_step_2, y_step_2, stratify=y_step_2,\n",
    "                                                                                test_size = 0.2, random_state=42)"
   ]
  },
  {
   "cell_type": "code",
   "execution_count": 11,
   "metadata": {
    "colab": {},
    "colab_type": "code",
    "id": "SNq_lb58rpI7"
   },
   "outputs": [
    {
     "data": {
      "text/plain": [
       "['one_vs_rest_classifier_step_2.joblib']"
      ]
     },
     "execution_count": 11,
     "metadata": {},
     "output_type": "execute_result"
    }
   ],
   "source": [
    "rf_step_2 = RandomForestClassifier(n_estimators=120, min_samples_leaf=5, min_samples_split=12, max_depth=100)\n",
    "ovr_step_2 = OneVsRestClassifier(estimator=rf_step_2, n_jobs=-1)\n",
    "\n",
    "# train\n",
    "ovr_step_2.fit(X_train_step_2, y_train_step_2)\n",
    "\n",
    "# predict probabilites\n",
    "probabilities_step_2 = ovr_step_2.predict_proba(X_test_step_2)\n",
    "prob_df_step_2 = pd.DataFrame(probabilities_step_2)\n",
    "prob_df_step_2.to_csv('probabilities_step_2.csv')\n",
    "\n",
    "# predict classes\n",
    "predictions_step_2 = ovr_step_2.predict(X_test_step_2)\n",
    "\n",
    "# save classification metrics\n",
    "cm = confusion_matrix(y_test_step_2, predictions_step_2)\n",
    "cr = classification_report(y_test_step_2, predictions_step_2, output_dict=True)\n",
    "\n",
    "cr_df = pd.DataFrame(cr).transpose()\n",
    "cr_df.to_csv('classification_report_2.csv')\n",
    "\n",
    "cm_df = pd.DataFrame(cm)\n",
    "cm_df.to_csv('confusion_matrix_2.csv')\n",
    "\n",
    "# dump the model\n",
    "dump(ovr_step_2, 'one_vs_rest_classifier_step_2.joblib')"
   ]
  },
  {
   "cell_type": "markdown",
   "metadata": {
    "colab_type": "text",
    "id": "1_9qq_BNgU9g"
   },
   "source": [
    "## Passo 3: Treino com adição de segmentos gerados aleatoriamente e remoção de outliers"
   ]
  },
  {
   "cell_type": "code",
   "execution_count": 12,
   "metadata": {
    "colab": {},
    "colab_type": "code",
    "id": "o3Sfs4nbhrIY"
   },
   "outputs": [
    {
     "data": {
      "text/plain": [
       "<matplotlib.axes._subplots.AxesSubplot at 0x7fe751280c90>"
      ]
     },
     "execution_count": 12,
     "metadata": {},
     "output_type": "execute_result"
    },
    {
     "data": {
      "image/png": "[encoded data removed]",
      "text/plain": [
       "<Figure size 720x360 with 1 Axes>"
      ]
     },
     "metadata": {
      "needs_background": "light"
     },
     "output_type": "display_data"
    }
   ],
   "source": [
    "plt.figure(figsize=(10,5))\n",
    "plt.title(\"Cumulative distribution of number of examples\")\n",
    "step_3['person'].value_counts(ascending=True).hist(cumulative=True, density=1)"
   ]
  },
  {
   "cell_type": "code",
   "execution_count": 13,
   "metadata": {
    "colab": {},
    "colab_type": "code",
    "id": "WLj6E66ChyN_"
   },
   "outputs": [],
   "source": [
    "## Remove pessoas que tem menos que 60 segmentos\n",
    "min_n_of_segments = 60\n",
    "mask = step_3['person'].value_counts() < min_n_of_segments\n",
    "people_to_remove = list(mask[mask].index)\n",
    "for person in people_to_remove:\n",
    "    step_3 = step_3[step_3.person != person]"
   ]
  },
  {
   "cell_type": "code",
   "execution_count": 14,
   "metadata": {
    "colab": {},
    "colab_type": "code",
    "id": "gE95-EKZRUAs"
   },
   "outputs": [
    {
     "name": "stdout",
     "output_type": "stream",
     "text": [
      "Há 1890 classes únicas no conjunto de TREINO\n",
      "Há 1890 classes únicas no conjunto de TESTE\n"
     ]
    }
   ],
   "source": [
    "#le_step_3 = LabelEncoder()\n",
    "#step_3['person'] = pd.Series(le_step_3.fit_transform(step_3['person']))\n",
    "original_columns = ['mean_q', 'mean_r', 'mean_s', 'stdev_q', 'stdev_r','stdev_s',\n",
    "                   'mean_rr_interval', 'mean_rq_amplitude', 'mean_qrs_interval']\n",
    "\n",
    "X_step_3 = step_3[original_columns]\n",
    "# Preenche os dados faltosos com a média da respectiva coluna\n",
    "X_step_3 = X_step_3.apply(lambda x: x.fillna(x.mean()))\n",
    "# O objeto da predição é 'y' (os rótulos das classes)\n",
    "y_step_3 = step_3['person']\n",
    "\n",
    "X_train_step_3, X_test_step_3, y_train_step_3, y_test_step_3 = train_test_split(X_step_3, y_step_3, stratify=y_step_3,\n",
    "                                                                                test_size = 0.2, random_state=42)\n",
    "print(f'Há {y_train_step_3.nunique()} classes únicas no conjunto de TREINO')\n",
    "print(f'Há {y_test_step_3.nunique()} classes únicas no conjunto de TESTE')"
   ]
  },
  {
   "cell_type": "code",
   "execution_count": null,
   "metadata": {
    "colab": {},
    "colab_type": "code",
    "id": "4TzRtRSRsPz1"
   },
   "outputs": [],
   "source": [
    "rf_step_3 = RandomForestClassifier(n_estimators=120, min_samples_leaf=5, min_samples_split=12, max_depth=100)\n",
    "ovr_step_3 = OneVsRestClassifier(estimator=rf_step_3, n_jobs=-1)\n",
    "\n",
    "# train\n",
    "ovr_step_3.fit(X_train_step_3, y_train_step_3)\n",
    "\n",
    "# predict probabilites\n",
    "probabilities_step_3 = ovr_step_3.predict_proba(X_test_step_3)\n",
    "prob_df_step_3 = pd.DataFrame(probabilities_step_3)\n",
    "prob_df_step_3.to_csv('probabilities_step_3.csv')\n",
    "\n",
    "# predict classes\n",
    "predictions_step_3 = ovr_step_3.predict(X_test_step_3)\n",
    "\n",
    "# save classification metrics\n",
    "cm = confusion_matrix(y_test_step_3, predictions_step_3)\n",
    "cr = classification_report(y_test_step_3, predictions_step_3, output_dict=True)\n",
    "\n",
    "cr_df = pd.DataFrame(cr).transpose()\n",
    "cr_df.to_csv('classification_report_3.csv')\n",
    "\n",
    "cm_df = pd.DataFrame(cm)\n",
    "cm_df.to_csv('confusion_matrix_3.csv')\n",
    "\n",
    "# dump the model\n",
    "dump(ovr_step_3, 'one_vs_rest_classifier_step_3.joblib')"
   ]
  },
  {
   "cell_type": "markdown",
   "metadata": {
    "colab_type": "text",
    "id": "qxZFNJw802cA"
   },
   "source": [
    "## Passo 4: Todas as features, segmentos aleatórios e remoção de outliers "
   ]
  },
  {
   "cell_type": "code",
   "execution_count": 3,
   "metadata": {
    "colab": {},
    "colab_type": "code",
    "id": "EQ1nx_pT0-A-"
   },
   "outputs": [],
   "source": [
    "## Remove pessoas que tem menos que 60 segmentos\n",
    "min_n_of_segments = 60\n",
    "mask = step_4['person'].value_counts() < min_n_of_segments\n",
    "people_to_remove = list(mask[mask].index)\n",
    "\n",
    "for person in people_to_remove:\n",
    "    step_4 = step_4[step_4.person != person]"
   ]
  },
  {
   "cell_type": "code",
   "execution_count": 5,
   "metadata": {
    "colab": {},
    "colab_type": "code",
    "id": "ZRVbP5r01Lsz"
   },
   "outputs": [
    {
     "name": "stdout",
     "output_type": "stream",
     "text": [
      "Há 1890 classes únicas no conjunto de TREINO\n",
      "Há 1890 classes únicas no conjunto de TESTE\n"
     ]
    }
   ],
   "source": [
    "#le_step_4 = LabelEncoder()\n",
    "#step_5['person'] = pd.Series(le_step_4.fit_transform(step_5['person']))\n",
    "\n",
    "X_step_4 = step_4.drop('person', axis=1)\n",
    "# Preenche os dados faltosos com a média da respectiva coluna\n",
    "X_step_4 = X_step_4.apply(lambda x: x.fillna(x.mean()))\n",
    "# O objeto da predição é 'y' (os rótulos das classes)\n",
    "y_step_4 = step_4['person']\n",
    "\n",
    "X_train_step_4, X_test_step_4, y_train_step_4, y_test_step_4 = train_test_split(X_step_4, y_step_4, stratify=y_step_4,\n",
    "                                                                                test_size=0.2, random_state=42)\n",
    "print(f'Há {y_train_step_4.nunique()} classes únicas no conjunto de TREINO')\n",
    "print(f'Há {y_test_step_4.nunique()} classes únicas no conjunto de TESTE')"
   ]
  },
  {
   "cell_type": "code",
   "execution_count": null,
   "metadata": {
    "colab": {},
    "colab_type": "code",
    "id": "BmyfE_dVs8eK"
   },
   "outputs": [],
   "source": [
    "rf_step_4 = RandomForestClassifier(n_estimators=120, min_samples_leaf=5, min_samples_split=12, max_depth=100)\n",
    "ovr_step_4 = OneVsRestClassifier(estimator=rf_step_4, n_jobs=-1)\n",
    "\n",
    "# train\n",
    "ovr_step_4.fit(X_train_step_4, y_train_step_4)\n",
    "\n",
    "# predict probabilites\n",
    "probabilities_step_4 = ovr_step_4.predict_proba(X_test_step_4)\n",
    "prob_df_step_4 = pd.DataFrame(probabilities_step_4)\n",
    "prob_df_step_4.to_csv('probabilities_step_4.csv')\n",
    "\n",
    "# predict classes\n",
    "predictions_step_4 = ovr_step_4.predict(X_test_step_4)\n",
    "\n",
    "# save classification metrics\n",
    "cm = confusion_matrix(y_test_step_4, predictions_step_4)\n",
    "cr = classification_report(y_test_step_4, predictions_step_4, output_dict=True)\n",
    "\n",
    "cr_df = pd.DataFrame(cr).transpose()\n",
    "cr_df.to_csv('classification_report_4.csv')\n",
    "\n",
    "cm_df = pd.DataFrame(cm)\n",
    "cm_df.to_csv('confusion_matrix_4.csv')\n",
    "\n",
    "# dump the model\n",
    "dump(ovr_step_4, 'one_vs_rest_classifier_step_4.joblib')"
   ]
  },
  {
   "cell_type": "markdown",
   "metadata": {
    "colab_type": "text",
    "id": "JAuprHe1NslJ"
   },
   "source": [
    "## Single decision tree  \n",
    "\n",
    "\n"
   ]
  },
  {
   "cell_type": "code",
   "execution_count": 9,
   "metadata": {
    "colab": {},
    "colab_type": "code",
    "id": "JRzm9j2rNncO"
   },
   "outputs": [
    {
     "name": "stderr",
     "output_type": "stream",
     "text": [
      "Warning: UTF-8 input uses non-Latin1 characters which cannot be handled by this PostScript driver\n"
     ]
    },
    {
     "data": {
      "image/svg+xml": [
       "<?xml version=\"1.0\" encoding=\"UTF-8\" standalone=\"no\"?>\n",
       "<!DOCTYPE svg PUBLIC \"-//W3C//DTD SVG 1.1//EN\"\n",
       " \"http://www.w3.org/Graphics/SVG/1.1/DTD/svg11.dtd\">\n",
       "<!-- Generated by graphviz version 2.40.1 (20161225.0304)\n",
       " -->\n",
       "<!-- Title: Tree Pages: 1 -->\n",
       "<svg width=\"575pt\" height=\"401pt\"\n",
       " viewBox=\"0.00 0.00 574.50 401.00\" xmlns=\"http://www.w3.org/2000/svg\" xmlns:xlink=\"http://www.w3.org/1999/xlink\">\n",
       "<g id=\"graph0\" class=\"graph\" transform=\"scale(1 1) rotate(0) translate(4 397)\">\n",
       "<title>Tree</title>\n",
       "<polygon fill=\"#ffffff\" stroke=\"transparent\" points=\"-4,4 -4,-397 570.5,-397 570.5,4 -4,4\"/>\n",
       "<!-- 0 -->\n",
       "<g id=\"node1\" class=\"node\">\n",
       "<title>0</title>\n",
       "<polygon fill=\"#e58139\" stroke=\"#000000\" points=\"383,-393 222,-393 222,-310 383,-310 383,-393\"/>\n",
       "<text text-anchor=\"start\" x=\"230\" y=\"-377.8\" font-family=\"Times,serif\" font-size=\"14.00\" fill=\"#000000\">mean_qt_distance ≤ 4.775</text>\n",
       "<text text-anchor=\"start\" x=\"268.5\" y=\"-362.8\" font-family=\"Times,serif\" font-size=\"14.00\" fill=\"#000000\">gini = 0.001</text>\n",
       "<text text-anchor=\"start\" x=\"252\" y=\"-347.8\" font-family=\"Times,serif\" font-size=\"14.00\" fill=\"#000000\">samples = 105476</text>\n",
       "<text text-anchor=\"start\" x=\"244.5\" y=\"-332.8\" font-family=\"Times,serif\" font-size=\"14.00\" fill=\"#000000\">value = [166605, 83]</text>\n",
       "<text text-anchor=\"start\" x=\"254.5\" y=\"-317.8\" font-family=\"Times,serif\" font-size=\"14.00\" fill=\"#000000\">class = tr03&#45;0198</text>\n",
       "</g>\n",
       "<!-- 1 -->\n",
       "<g id=\"node2\" class=\"node\">\n",
       "<title>1</title>\n",
       "<polygon fill=\"#e5813a\" stroke=\"#000000\" points=\"294,-274 169,-274 169,-191 294,-191 294,-274\"/>\n",
       "<text text-anchor=\"start\" x=\"191\" y=\"-258.8\" font-family=\"Times,serif\" font-size=\"14.00\" fill=\"#000000\">mean_t ≤ 1.05</text>\n",
       "<text text-anchor=\"start\" x=\"197.5\" y=\"-243.8\" font-family=\"Times,serif\" font-size=\"14.00\" fill=\"#000000\">gini = 0.006</text>\n",
       "<text text-anchor=\"start\" x=\"184.5\" y=\"-228.8\" font-family=\"Times,serif\" font-size=\"14.00\" fill=\"#000000\">samples = 14488</text>\n",
       "<text text-anchor=\"start\" x=\"177\" y=\"-213.8\" font-family=\"Times,serif\" font-size=\"14.00\" fill=\"#000000\">value = [22867, 74]</text>\n",
       "<text text-anchor=\"start\" x=\"183.5\" y=\"-198.8\" font-family=\"Times,serif\" font-size=\"14.00\" fill=\"#000000\">class = tr03&#45;0198</text>\n",
       "</g>\n",
       "<!-- 0&#45;&gt;1 -->\n",
       "<g id=\"edge1\" class=\"edge\">\n",
       "<title>0&#45;&gt;1</title>\n",
       "<path fill=\"none\" stroke=\"#000000\" d=\"M277.6676,-309.8796C272.5091,-301.2335 267.0192,-292.0322 261.6924,-283.1042\"/>\n",
       "<polygon fill=\"#000000\" stroke=\"#000000\" points=\"264.5678,-281.0924 256.4383,-274.2981 258.5564,-284.679 264.5678,-281.0924\"/>\n",
       "<text text-anchor=\"middle\" x=\"250.3149\" y=\"-294.8366\" font-family=\"Times,serif\" font-size=\"14.00\" fill=\"#000000\">True</text>\n",
       "</g>\n",
       "<!-- 36 -->\n",
       "<g id=\"node9\" class=\"node\">\n",
       "<title>36</title>\n",
       "<polygon fill=\"#e58139\" stroke=\"#000000\" points=\"437,-274 312,-274 312,-191 437,-191 437,-274\"/>\n",
       "<text text-anchor=\"start\" x=\"331\" y=\"-258.8\" font-family=\"Times,serif\" font-size=\"14.00\" fill=\"#000000\">stdev_r ≤ 0.233</text>\n",
       "<text text-anchor=\"start\" x=\"347\" y=\"-243.8\" font-family=\"Times,serif\" font-size=\"14.00\" fill=\"#000000\">gini = 0.0</text>\n",
       "<text text-anchor=\"start\" x=\"327.5\" y=\"-228.8\" font-family=\"Times,serif\" font-size=\"14.00\" fill=\"#000000\">samples = 90988</text>\n",
       "<text text-anchor=\"start\" x=\"320\" y=\"-213.8\" font-family=\"Times,serif\" font-size=\"14.00\" fill=\"#000000\">value = [143738, 9]</text>\n",
       "<text text-anchor=\"start\" x=\"326.5\" y=\"-198.8\" font-family=\"Times,serif\" font-size=\"14.00\" fill=\"#000000\">class = tr03&#45;0198</text>\n",
       "</g>\n",
       "<!-- 0&#45;&gt;36 -->\n",
       "<g id=\"edge8\" class=\"edge\">\n",
       "<title>0&#45;&gt;36</title>\n",
       "<path fill=\"none\" stroke=\"#000000\" d=\"M327.6821,-309.8796C332.9133,-301.2335 338.4805,-292.0322 343.8823,-283.1042\"/>\n",
       "<polygon fill=\"#000000\" stroke=\"#000000\" points=\"347.0283,-284.6658 349.2104,-274.2981 341.0392,-281.0421 347.0283,-284.6658\"/>\n",
       "<text text-anchor=\"middle\" x=\"355.184\" y=\"-294.8739\" font-family=\"Times,serif\" font-size=\"14.00\" fill=\"#000000\">False</text>\n",
       "</g>\n",
       "<!-- 2 -->\n",
       "<g id=\"node3\" class=\"node\">\n",
       "<title>2</title>\n",
       "<polygon fill=\"#e58139\" stroke=\"#000000\" points=\"155,-155 0,-155 0,-72 155,-72 155,-155\"/>\n",
       "<text text-anchor=\"start\" x=\"8\" y=\"-139.8\" font-family=\"Times,serif\" font-size=\"14.00\" fill=\"#000000\">mean_st_segment ≤ 27.1</text>\n",
       "<text text-anchor=\"start\" x=\"50\" y=\"-124.8\" font-family=\"Times,serif\" font-size=\"14.00\" fill=\"#000000\">gini = 0.0</text>\n",
       "<text text-anchor=\"start\" x=\"30.5\" y=\"-109.8\" font-family=\"Times,serif\" font-size=\"14.00\" fill=\"#000000\">samples = 12675</text>\n",
       "<text text-anchor=\"start\" x=\"26\" y=\"-94.8\" font-family=\"Times,serif\" font-size=\"14.00\" fill=\"#000000\">value = [20084, 1]</text>\n",
       "<text text-anchor=\"start\" x=\"29.5\" y=\"-79.8\" font-family=\"Times,serif\" font-size=\"14.00\" fill=\"#000000\">class = tr03&#45;0198</text>\n",
       "</g>\n",
       "<!-- 1&#45;&gt;2 -->\n",
       "<g id=\"edge2\" class=\"edge\">\n",
       "<title>1&#45;&gt;2</title>\n",
       "<path fill=\"none\" stroke=\"#000000\" d=\"M177.6383,-190.8796C165.3291,-181.368 152.1503,-171.1843 139.5296,-161.432\"/>\n",
       "<polygon fill=\"#000000\" stroke=\"#000000\" points=\"141.3843,-158.4419 131.3313,-155.0969 137.1041,-163.9809 141.3843,-158.4419\"/>\n",
       "</g>\n",
       "<!-- 9 -->\n",
       "<g id=\"node6\" class=\"node\">\n",
       "<title>9</title>\n",
       "<polygon fill=\"#e6843e\" stroke=\"#000000\" points=\"292,-155 173,-155 173,-72 292,-72 292,-155\"/>\n",
       "<text text-anchor=\"start\" x=\"190.5\" y=\"-139.8\" font-family=\"Times,serif\" font-size=\"14.00\" fill=\"#000000\">mean_p ≤ 1.08</text>\n",
       "<text text-anchor=\"start\" x=\"202\" y=\"-124.8\" font-family=\"Times,serif\" font-size=\"14.00\" fill=\"#000000\">gini = 0.05</text>\n",
       "<text text-anchor=\"start\" x=\"188.5\" y=\"-109.8\" font-family=\"Times,serif\" font-size=\"14.00\" fill=\"#000000\">samples = 1813</text>\n",
       "<text text-anchor=\"start\" x=\"181\" y=\"-94.8\" font-family=\"Times,serif\" font-size=\"14.00\" fill=\"#000000\">value = [2783, 73]</text>\n",
       "<text text-anchor=\"start\" x=\"184.5\" y=\"-79.8\" font-family=\"Times,serif\" font-size=\"14.00\" fill=\"#000000\">class = tr03&#45;0198</text>\n",
       "</g>\n",
       "<!-- 1&#45;&gt;9 -->\n",
       "<g id=\"edge5\" class=\"edge\">\n",
       "<title>1&#45;&gt;9</title>\n",
       "<path fill=\"none\" stroke=\"#000000\" d=\"M231.8498,-190.8796C231.9186,-182.6838 231.9917,-173.9891 232.063,-165.5013\"/>\n",
       "<polygon fill=\"#000000\" stroke=\"#000000\" points=\"235.5645,-165.3272 232.1488,-155.2981 228.5648,-165.2683 235.5645,-165.3272\"/>\n",
       "</g>\n",
       "<!-- 3 -->\n",
       "<g id=\"node4\" class=\"node\">\n",
       "<title>3</title>\n",
       "<polygon fill=\"#c0c0c0\" stroke=\"#000000\" points=\"74.5,-36 20.5,-36 20.5,0 74.5,0 74.5,-36\"/>\n",
       "<text text-anchor=\"middle\" x=\"47.5\" y=\"-14.3\" font-family=\"Times,serif\" font-size=\"14.00\" fill=\"#000000\">(...)</text>\n",
       "</g>\n",
       "<!-- 2&#45;&gt;3 -->\n",
       "<g id=\"edge3\" class=\"edge\">\n",
       "<title>2&#45;&gt;3</title>\n",
       "<path fill=\"none\" stroke=\"#000000\" d=\"M64.4288,-71.8901C61.6755,-63.1253 58.834,-54.0798 56.2837,-45.9615\"/>\n",
       "<polygon fill=\"#000000\" stroke=\"#000000\" points=\"59.5739,-44.7565 53.2377,-36.2651 52.8956,-46.8544 59.5739,-44.7565\"/>\n",
       "</g>\n",
       "<!-- 8 -->\n",
       "<g id=\"node5\" class=\"node\">\n",
       "<title>8</title>\n",
       "<polygon fill=\"#c0c0c0\" stroke=\"#000000\" points=\"146.5,-36 92.5,-36 92.5,0 146.5,0 146.5,-36\"/>\n",
       "<text text-anchor=\"middle\" x=\"119.5\" y=\"-14.3\" font-family=\"Times,serif\" font-size=\"14.00\" fill=\"#000000\">(...)</text>\n",
       "</g>\n",
       "<!-- 2&#45;&gt;8 -->\n",
       "<g id=\"edge4\" class=\"edge\">\n",
       "<title>2&#45;&gt;8</title>\n",
       "<path fill=\"none\" stroke=\"#000000\" d=\"M95.7996,-71.8901C99.74,-62.9305 103.8093,-53.6777 107.4402,-45.4217\"/>\n",
       "<polygon fill=\"#000000\" stroke=\"#000000\" points=\"110.6452,-46.828 111.4672,-36.2651 104.2375,-44.0099 110.6452,-46.828\"/>\n",
       "</g>\n",
       "<!-- 10 -->\n",
       "<g id=\"node7\" class=\"node\">\n",
       "<title>10</title>\n",
       "<polygon fill=\"#c0c0c0\" stroke=\"#000000\" points=\"236.5,-36 182.5,-36 182.5,0 236.5,0 236.5,-36\"/>\n",
       "<text text-anchor=\"middle\" x=\"209.5\" y=\"-14.3\" font-family=\"Times,serif\" font-size=\"14.00\" fill=\"#000000\">(...)</text>\n",
       "</g>\n",
       "<!-- 9&#45;&gt;10 -->\n",
       "<g id=\"edge6\" class=\"edge\">\n",
       "<title>9&#45;&gt;10</title>\n",
       "<path fill=\"none\" stroke=\"#000000\" d=\"M222.4788,-71.8901C220.3913,-63.2227 218.2378,-54.2808 216.2994,-46.2325\"/>\n",
       "<polygon fill=\"#000000\" stroke=\"#000000\" points=\"219.6431,-45.1676 213.8989,-36.2651 212.8377,-46.8067 219.6431,-45.1676\"/>\n",
       "</g>\n",
       "<!-- 19 -->\n",
       "<g id=\"node8\" class=\"node\">\n",
       "<title>19</title>\n",
       "<polygon fill=\"#c0c0c0\" stroke=\"#000000\" points=\"308.5,-36 254.5,-36 254.5,0 308.5,0 308.5,-36\"/>\n",
       "<text text-anchor=\"middle\" x=\"281.5\" y=\"-14.3\" font-family=\"Times,serif\" font-size=\"14.00\" fill=\"#000000\">(...)</text>\n",
       "</g>\n",
       "<!-- 9&#45;&gt;19 -->\n",
       "<g id=\"edge7\" class=\"edge\">\n",
       "<title>9&#45;&gt;19</title>\n",
       "<path fill=\"none\" stroke=\"#000000\" d=\"M253.8496,-71.8901C258.4466,-62.9305 263.1942,-53.6777 267.4302,-45.4217\"/>\n",
       "<polygon fill=\"#000000\" stroke=\"#000000\" points=\"270.6773,-46.7601 272.1284,-36.2651 264.4492,-43.5645 270.6773,-46.7601\"/>\n",
       "</g>\n",
       "<!-- 37 -->\n",
       "<g id=\"node10\" class=\"node\">\n",
       "<title>37</title>\n",
       "<polygon fill=\"#e58139\" stroke=\"#000000\" points=\"436,-155 311,-155 311,-72 436,-72 436,-155\"/>\n",
       "<text text-anchor=\"start\" x=\"330\" y=\"-139.8\" font-family=\"Times,serif\" font-size=\"14.00\" fill=\"#000000\">stdev_r ≤ 0.178</text>\n",
       "<text text-anchor=\"start\" x=\"346\" y=\"-124.8\" font-family=\"Times,serif\" font-size=\"14.00\" fill=\"#000000\">gini = 0.0</text>\n",
       "<text text-anchor=\"start\" x=\"326.5\" y=\"-109.8\" font-family=\"Times,serif\" font-size=\"14.00\" fill=\"#000000\">samples = 90980</text>\n",
       "<text text-anchor=\"start\" x=\"319\" y=\"-94.8\" font-family=\"Times,serif\" font-size=\"14.00\" fill=\"#000000\">value = [143725, 7]</text>\n",
       "<text text-anchor=\"start\" x=\"325.5\" y=\"-79.8\" font-family=\"Times,serif\" font-size=\"14.00\" fill=\"#000000\">class = tr03&#45;0198</text>\n",
       "</g>\n",
       "<!-- 36&#45;&gt;37 -->\n",
       "<g id=\"edge9\" class=\"edge\">\n",
       "<title>36&#45;&gt;37</title>\n",
       "<path fill=\"none\" stroke=\"#000000\" d=\"M374.1502,-190.8796C374.0814,-182.6838 374.0083,-173.9891 373.937,-165.5013\"/>\n",
       "<polygon fill=\"#000000\" stroke=\"#000000\" points=\"377.4352,-165.2683 373.8512,-155.2981 370.4355,-165.3272 377.4352,-165.2683\"/>\n",
       "</g>\n",
       "<!-- 52 -->\n",
       "<g id=\"node13\" class=\"node\">\n",
       "<title>52</title>\n",
       "<polygon fill=\"#e99457\" stroke=\"#000000\" points=\"566.5,-147.5 454.5,-147.5 454.5,-79.5 566.5,-79.5 566.5,-147.5\"/>\n",
       "<text text-anchor=\"start\" x=\"476.5\" y=\"-132.3\" font-family=\"Times,serif\" font-size=\"14.00\" fill=\"#000000\">gini = 0.231</text>\n",
       "<text text-anchor=\"start\" x=\"477\" y=\"-117.3\" font-family=\"Times,serif\" font-size=\"14.00\" fill=\"#000000\">samples = 8</text>\n",
       "<text text-anchor=\"start\" x=\"469.5\" y=\"-102.3\" font-family=\"Times,serif\" font-size=\"14.00\" fill=\"#000000\">value = [13, 2]</text>\n",
       "<text text-anchor=\"start\" x=\"462.5\" y=\"-87.3\" font-family=\"Times,serif\" font-size=\"14.00\" fill=\"#000000\">class = tr03&#45;0198</text>\n",
       "</g>\n",
       "<!-- 36&#45;&gt;52 -->\n",
       "<g id=\"edge12\" class=\"edge\">\n",
       "<title>36&#45;&gt;52</title>\n",
       "<path fill=\"none\" stroke=\"#000000\" d=\"M422.0662,-190.8796C435.5128,-179.1138 450.1347,-166.3197 463.5451,-154.5855\"/>\n",
       "<polygon fill=\"#000000\" stroke=\"#000000\" points=\"466.0619,-157.034 471.2829,-147.8149 461.4524,-151.766 466.0619,-157.034\"/>\n",
       "</g>\n",
       "<!-- 38 -->\n",
       "<g id=\"node11\" class=\"node\">\n",
       "<title>38</title>\n",
       "<polygon fill=\"#c0c0c0\" stroke=\"#000000\" points=\"389.5,-36 335.5,-36 335.5,0 389.5,0 389.5,-36\"/>\n",
       "<text text-anchor=\"middle\" x=\"362.5\" y=\"-14.3\" font-family=\"Times,serif\" font-size=\"14.00\" fill=\"#000000\">(...)</text>\n",
       "</g>\n",
       "<!-- 37&#45;&gt;38 -->\n",
       "<g id=\"edge10\" class=\"edge\">\n",
       "<title>37&#45;&gt;38</title>\n",
       "<path fill=\"none\" stroke=\"#000000\" d=\"M368.7072,-71.8901C367.7089,-63.2227 366.6789,-54.2808 365.7519,-46.2325\"/>\n",
       "<polygon fill=\"#000000\" stroke=\"#000000\" points=\"369.2252,-45.7989 364.6038,-36.2651 362.2712,-46.5999 369.2252,-45.7989\"/>\n",
       "</g>\n",
       "<!-- 49 -->\n",
       "<g id=\"node12\" class=\"node\">\n",
       "<title>49</title>\n",
       "<polygon fill=\"#c0c0c0\" stroke=\"#000000\" points=\"461.5,-36 407.5,-36 407.5,0 461.5,0 461.5,-36\"/>\n",
       "<text text-anchor=\"middle\" x=\"434.5\" y=\"-14.3\" font-family=\"Times,serif\" font-size=\"14.00\" fill=\"#000000\">(...)</text>\n",
       "</g>\n",
       "<!-- 37&#45;&gt;49 -->\n",
       "<g id=\"edge11\" class=\"edge\">\n",
       "<title>37&#45;&gt;49</title>\n",
       "<path fill=\"none\" stroke=\"#000000\" d=\"M400.078,-71.8901C405.9253,-62.7357 411.9682,-53.2752 417.3276,-44.8847\"/>\n",
       "<polygon fill=\"#000000\" stroke=\"#000000\" points=\"420.3999,-46.5767 422.8333,-36.2651 414.5006,-42.8086 420.3999,-46.5767\"/>\n",
       "</g>\n",
       "</g>\n",
       "</svg>\n"
      ],
      "text/plain": [
       "<graphviz.files.Source at 0x7f71448e6750>"
      ]
     },
     "execution_count": 9,
     "metadata": {},
     "output_type": "execute_result"
    }
   ],
   "source": [
    "dot_data = tree.export_graphviz(ovr_step_4.estimators_[4].estimators_[4], out_file=None,\n",
    "                                feature_names=X_step_4.columns, max_depth=2,\n",
    "                                class_names=y_test_step_4.unique(),  \n",
    "                                filled=True, special_characters=True)\n",
    "graph = graphviz.Source(dot_data)\n",
    "image_bytes = graph.pipe(format='eps')\n",
    "\n",
    "# Save tree image on Google Drive\n",
    "with open('trees_visualization.eps','wb') as picture_file:\n",
    "    picture_file.write(image_bytes)\n",
    "\n",
    "# Preview tree image o Colab\n",
    "graph.render(\"trees_visualization\") \n",
    "graph"
   ]
  },
  {
   "cell_type": "markdown",
   "metadata": {
    "colab_type": "text",
    "id": "Xn5T0FDorrX6"
   },
   "source": [
    "## Checking model feature importance"
   ]
  },
  {
   "cell_type": "code",
   "execution_count": null,
   "metadata": {
    "colab": {},
    "colab_type": "code",
    "id": "Tq6AkhALrnKx"
   },
   "outputs": [],
   "source": [
    "importances = [(feature, round(importance, 2)) for feature, importance in zip(X_step_4.columns, rf_step_4.feature_importances_)]\n",
    "sorted_importances = sorted(importances, key=lambda x:x[1], reverse=True) \n",
    "\n",
    "for pair in sorted_importances:\n",
    "    print('Feature: {:20} Importance: {}'.format(*pair))"
   ]
  },
  {
   "cell_type": "code",
   "execution_count": null,
   "metadata": {
    "colab": {},
    "colab_type": "code",
    "id": "uP2b7Buwrz93"
   },
   "outputs": [],
   "source": [
    "x_values = range(len(rf_step_4.feature_importances_))\n",
    "plt.figure(figsize=(10,5))\n",
    "plt.ylabel('Importance')\n",
    "plt.xlabel('Feature')\n",
    "plt.title('Feature Importance')\n",
    "plt.xticks(x_values, X_step_4.columns, rotation='vertical')\n",
    "plt.bar(x_values, rf_step_4.feature_importances_, orientation = 'vertical')"
   ]
  }
 ],
 "metadata": {
  "colab": {
   "collapsed_sections": [],
   "machine_shape": "hm",
   "name": "ECG indentification scenarios.ipynb",
   "provenance": []
  },
  "kernelspec": {
   "display_name": "Python 3",
   "language": "python",
   "name": "python3"
  },
  "language_info": {
   "codemirror_mode": {
    "name": "ipython",
    "version": 3
   },
   "file_extension": ".py",
   "mimetype": "text/x-python",
   "name": "python",
   "nbconvert_exporter": "python",
   "pygments_lexer": "ipython3",
   "version": "3.7.4"
  }
 },
 "nbformat": 4,
 "nbformat_minor": 2
}
